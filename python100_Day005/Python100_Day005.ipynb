{
 "cells": [
  {
   "cell_type": "markdown",
   "metadata": {},
   "source": [
    "# Day5: Practice"
   ]
  },
  {
   "cell_type": "markdown",
   "metadata": {},
   "source": [
    "## 1. Narcissistic number"
   ]
  },
  {
   "cell_type": "code",
   "execution_count": 1,
   "metadata": {
    "scrolled": true
   },
   "outputs": [
    {
     "name": "stdout",
     "output_type": "stream",
     "text": [
      "153 is a narcissistic number\n",
      "370 is a narcissistic number\n",
      "371 is a narcissistic number\n",
      "407 is a narcissistic number\n"
     ]
    }
   ],
   "source": [
    "for i in range(100,999):\n",
    "    ones = i%10;\n",
    "    tens = i//10%10;\n",
    "    hundreds = i//100%10;\n",
    "    if i == ones**3+tens**3+hundreds**3:\n",
    "        print(i, 'is a narcissistic number')"
   ]
  },
  {
   "cell_type": "markdown",
   "metadata": {},
   "source": [
    "## 2. Perfect number"
   ]
  },
  {
   "cell_type": "code",
   "execution_count": 23,
   "metadata": {},
   "outputs": [
    {
     "name": "stdout",
     "output_type": "stream",
     "text": [
      "6 is a perfect number\n",
      "28 is a perfect number\n",
      "496 is a perfect number\n",
      "8128 is a perfect number\n",
      "Running Time: 2.484375 s\n"
     ]
    }
   ],
   "source": [
    "import time\n",
    "start = time.process_time()\n",
    "#max_number = input(\"Please enter the maxium number\")\n",
    "max_number = 10000\n",
    "for number in range (1,max_number):\n",
    "    factor_sum = 0;\n",
    "    for factor in range(1,number//2+1):\n",
    "        if number%factor == 0:\n",
    "            factor_sum = factor_sum+factor\n",
    "    if number == factor_sum:\n",
    "        print(number,\"is a perfect number\")\n",
    "end = time.process_time()\n",
    "print(\"Running Time:\", (end - start), \"s\")"
   ]
  },
  {
   "cell_type": "code",
   "execution_count": 22,
   "metadata": {},
   "outputs": [
    {
     "name": "stdout",
     "output_type": "stream",
     "text": [
      "1\n",
      "6\n",
      "28\n",
      "496\n",
      "8128\n",
      "Running Time: 0.078125 s\n"
     ]
    }
   ],
   "source": [
    "import time\n",
    "import math\n",
    "\n",
    "start = time.process_time()\n",
    "for num in range(1, 10000):\n",
    "    sum = 0\n",
    "    for factor in range(1, int(math.sqrt(num)) + 1):\n",
    "        if num % factor == 0:\n",
    "            sum += factor\n",
    "            if factor > 1 and num / factor != factor:\n",
    "                sum += num / factor\n",
    "    if sum == num:\n",
    "        print(num)\n",
    "end = time.process_time()\n",
    "print(\"Running Time:\", (end - start), \"s\")"
   ]
  },
  {
   "cell_type": "markdown",
   "metadata": {},
   "source": [
    "## 3. Hundred dollar for hundred chicken"
   ]
  },
  {
   "cell_type": "code",
   "execution_count": 24,
   "metadata": {},
   "outputs": [
    {
     "name": "stdout",
     "output_type": "stream",
     "text": [
      "Rooster: 0 Hen is: 25 Chicken: 75\n",
      "Rooster: 4 Hen is: 18 Chicken: 78\n",
      "Rooster: 8 Hen is: 11 Chicken: 81\n",
      "Rooster: 12 Hen is: 4 Chicken: 84\n"
     ]
    }
   ],
   "source": [
    "for i in range(20):\n",
    "    for j in range(33):\n",
    "        money = 5*i + 3*j+ (100-i-j)/3\n",
    "        if money == 100:\n",
    "            print(\"Rooster:\",i,\"Hen is:\",j,\"Chicken:\",100-i-j)"
   ]
  },
  {
   "cell_type": "markdown",
   "metadata": {},
   "source": [
    "## 4. Fibonacci sequence"
   ]
  },
  {
   "cell_type": "code",
   "execution_count": 28,
   "metadata": {},
   "outputs": [
    {
     "name": "stdout",
     "output_type": "stream",
     "text": [
      "2 3 5 8 13 21 34 55 89 144 233 377 610 987 1597 2584 4181 6765 10946 17711 "
     ]
    }
   ],
   "source": [
    "a = 1\n",
    "b = 1\n",
    "for _ in range(20):\n",
    "    num = a + b\n",
    "    a = b\n",
    "    b = num\n",
    "    print(num, end = ' ')"
   ]
  },
  {
   "cell_type": "code",
   "execution_count": 27,
   "metadata": {},
   "outputs": [
    {
     "name": "stdout",
     "output_type": "stream",
     "text": [
      "1 1 2 3 5 8 13 21 34 55 89 144 233 377 610 987 1597 2584 4181 6765 "
     ]
    }
   ],
   "source": [
    "a = 0\n",
    "b = 1\n",
    "for _ in range(20):\n",
    "    (a, b) = (b, a + b)\n",
    "    print(a, end=' ')"
   ]
  },
  {
   "cell_type": "markdown",
   "metadata": {},
   "source": [
    "## 5. Craps Gambling Game"
   ]
  },
  {
   "cell_type": "code",
   "execution_count": 30,
   "metadata": {},
   "outputs": [
    {
     "name": "stdout",
     "output_type": "stream",
     "text": [
      "你的总资产为: 1000\n",
      "请下注: 5\n",
      "玩家摇出了7点\n",
      "玩家胜!\n",
      "你的总资产为: 1005\n",
      "请下注: 1005\n",
      "玩家摇出了5点\n",
      "玩家摇出了9点\n",
      "玩家摇出了9点\n",
      "玩家摇出了11点\n",
      "玩家摇出了4点\n",
      "玩家摇出了3点\n",
      "玩家摇出了8点\n",
      "玩家摇出了5点\n",
      "玩家胜\n",
      "你的总资产为: 2010\n",
      "请下注: 2010\n",
      "玩家摇出了8点\n",
      "玩家摇出了9点\n",
      "玩家摇出了6点\n",
      "玩家摇出了10点\n",
      "玩家摇出了2点\n",
      "玩家摇出了8点\n",
      "玩家胜\n",
      "你的总资产为: 4020\n",
      "请下注: 4020\n",
      "玩家摇出了7点\n",
      "玩家胜!\n",
      "你的总资产为: 8040\n",
      "请下注: 8040\n",
      "玩家摇出了8点\n",
      "玩家摇出了9点\n",
      "玩家摇出了7点\n",
      "庄家胜\n",
      "你破产了, 游戏结束!\n"
     ]
    }
   ],
   "source": [
    "\"\"\"\n",
    "Craps赌博游戏\n",
    "玩家摇两颗色子 如果第一次摇出7点或11点 玩家胜\n",
    "如果摇出2点 3点 12点 庄家胜 其他情况游戏继续\n",
    "玩家再次要色子 如果摇出7点 庄家胜\n",
    "如果摇出第一次摇的点数 玩家胜\n",
    "否则游戏继续 玩家继续摇色子\n",
    "玩家进入游戏时有1000元的赌注 全部输光游戏结束\n",
    "\"\"\"\n",
    "from random import randint\n",
    "\n",
    "money = 1000\n",
    "while money > 0:\n",
    "    print('你的总资产为:', money)\n",
    "    needs_go_on = False\n",
    "    while True:\n",
    "        debt = int(input('请下注: '))\n",
    "        if debt > 0 and debt <= money:\n",
    "            break\n",
    "    first = randint(1, 6) + randint(1, 6)\n",
    "    print('玩家摇出了%d点' % first)\n",
    "    if first == 7 or first == 11:\n",
    "        print('玩家胜!')\n",
    "        money += debt\n",
    "    elif first == 2 or first == 3 or first == 12:\n",
    "        print('庄家胜!')\n",
    "        money -= debt\n",
    "    else:\n",
    "        needs_go_on = True\n",
    "\n",
    "    while needs_go_on:\n",
    "        current = randint(1, 6) + randint(1, 6)\n",
    "        print('玩家摇出了%d点' % current)\n",
    "        if current == 7:\n",
    "            print('庄家胜')\n",
    "            money -= debt\n",
    "            needs_go_on = False\n",
    "        elif current == first:\n",
    "            print('玩家胜')\n",
    "            money += debt\n",
    "            needs_go_on = False\n",
    "\n",
    "print('你破产了, 游戏结束!')"
   ]
  },
  {
   "cell_type": "markdown",
   "metadata": {},
   "source": [
    "## 6. Palindromic number"
   ]
  },
  {
   "cell_type": "code",
   "execution_count": 34,
   "metadata": {},
   "outputs": [
    {
     "name": "stdout",
     "output_type": "stream",
     "text": [
      "Please enter a number: 12321\n",
      "12321 is palindromic number\n"
     ]
    }
   ],
   "source": [
    "num = int(input('Please enter a number: '))\n",
    "temp1 = num\n",
    "temp2 = 0\n",
    "while temp1 > 0:\n",
    "    temp2 = temp2 * 10\n",
    "    temp2 = temp2 + temp1 % 10 \n",
    "    temp1 = temp1 // 10\n",
    "\n",
    "if num == temp2:\n",
    "    print(num, \"is palindromic number\")\n",
    "else:\n",
    "    print(num, \"is not palindromic number\")"
   ]
  },
  {
   "cell_type": "code",
   "execution_count": 31,
   "metadata": {},
   "outputs": [
    {
     "name": "stdout",
     "output_type": "stream",
     "text": [
      "请输入一个正整数: 12321\n",
      "12321是回文数\n"
     ]
    }
   ],
   "source": [
    "num = int(input('请输入一个正整数: '))\n",
    "temp = num\n",
    "num2 = 0\n",
    "while temp > 0:\n",
    "    num2 *= 10\n",
    "    num2 += temp % 10\n",
    "    temp //= 10\n",
    "if num == num2:\n",
    "    print('%d是回文数' % num)\n",
    "else:\n",
    "    print('%d不是回文数' % num)"
   ]
  }
 ],
 "metadata": {
  "kernelspec": {
   "display_name": "Python 3",
   "language": "python",
   "name": "python3"
  },
  "language_info": {
   "codemirror_mode": {
    "name": "ipython",
    "version": 3
   },
   "file_extension": ".py",
   "mimetype": "text/x-python",
   "name": "python",
   "nbconvert_exporter": "python",
   "pygments_lexer": "ipython3",
   "version": "3.7.3"
  }
 },
 "nbformat": 4,
 "nbformat_minor": 2
}
