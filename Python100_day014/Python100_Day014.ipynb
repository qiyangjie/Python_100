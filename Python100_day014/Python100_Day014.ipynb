{
 "cells": [
  {
   "cell_type": "markdown",
   "metadata": {
    "colab_type": "text",
    "id": "Hz3ZpObe5M4b"
   },
   "source": [
    "## Web Program\n",
    "### 1. Request library to use HTTP"
   ]
  },
  {
   "cell_type": "code",
   "execution_count": 1,
   "metadata": {
    "colab": {
     "base_uri": "https://localhost:8080/",
     "height": 54
    },
    "colab_type": "code",
    "id": "EuwFDrEw5M4d",
    "outputId": "b278d63a-2769-4745-c39a-19c8bff3c381"
   },
   "outputs": [
    {
     "name": "stdout",
     "output_type": "stream",
     "text": [
      "{'used': False, 'source': 'user', 'type': 'cat', 'deleted': False, '_id': '5c75f56272681400147b988a', 'updatedAt': '2019-05-19T20:22:45.768Z', 'createdAt': '2019-02-27T02:26:42.701Z', 'user': '5a9ac18c7478810ea6c06381', 'text': 'There are only two escalators in the state of Wyoming.', '__v': 0}\n"
     ]
    }
   ],
   "source": [
    "from time import time\n",
    "from threading import Thread\n",
    "\n",
    "import requests\n",
    "\n",
    "def main():\n",
    "    resp = requests.get(\n",
    "        'https://cat-fact.herokuapp.com/facts/random')\n",
    "    data_model = resp.json()\n",
    "    print(data_model)\n",
    "\n",
    "\n",
    "if __name__ == '__main__':\n",
    "    main()"
   ]
  },
  {
   "cell_type": "markdown",
   "metadata": {},
   "source": [
    "### 2. Create a Server\n",
    "\n",
    "The ip number is find by running \"ipconfig\" on windows CMD"
   ]
  },
  {
   "cell_type": "code",
   "execution_count": null,
   "metadata": {
    "colab": {
     "base_uri": "https://localhost:8080/",
     "height": 317
    },
    "colab_type": "code",
    "id": "WG0RiXF95PV1",
    "outputId": "dfa16a60-eb4f-452b-afa3-c3c85566024c"
   },
   "outputs": [
    {
     "name": "stdout",
     "output_type": "stream",
     "text": [
      "The Server start...\n",
      "('192.168.86.28', 50207)conneted to the server.\n"
     ]
    }
   ],
   "source": [
    "from socket import socket, SOCK_STREAM, AF_INET\n",
    "from datetime import datetime\n",
    "\n",
    "\n",
    "def main():\n",
    "    # 1.创建套接字对象并指定使用哪种传输服务\n",
    "    # family=AF_INET - IPv4地址\n",
    "    # family=AF_INET6 - IPv6地址\n",
    "    # type=SOCK_STREAM - TCP套接字\n",
    "    # type=SOCK_DGRAM - UDP套接字\n",
    "    # type=SOCK_RAW - 原始套接字\n",
    "    server = socket(family=AF_INET, type=SOCK_STREAM)\n",
    "    # 2.绑定IP地址和端口(端口用于区分不同的服务)\n",
    "    # 同一时间在同一个端口上只能绑定一个服务否则报错\n",
    "    server.bind(('192.168.86.23', 4568))\n",
    "    # 3.开启监听 - 监听客户端连接到服务器\n",
    "    # 参数512可以理解为连接队列的大小\n",
    "    server.listen(512)\n",
    "    print('The Server start...')\n",
    "    while True:\n",
    "        # 4.通过循环接收客户端的连接并作出相应的处理(提供服务)\n",
    "        # accept方法是一个阻塞方法如果没有客户端连接到服务器代码不会向下执行\n",
    "        # accept方法返回一个元组其中的第一个元素是客户端对象\n",
    "        # 第二个元素是连接到服务器的客户端的地址(由IP和端口两部分构成)\n",
    "        client, addr = server.accept()\n",
    "        print(str(addr) + 'conneted to the server.')\n",
    "        # 5.发送数据\n",
    "        client.send(str(datetime.now()).encode('utf-8'))\n",
    "        # 6.断开连接\n",
    "        client.close()\n",
    "\n",
    "\n",
    "if __name__ == '__main__':\n",
    "    main()"
   ]
  },
  {
   "cell_type": "code",
   "execution_count": null,
   "metadata": {
    "colab": {},
    "colab_type": "code",
    "id": "5WGtK55N6aqb"
   },
   "outputs": [
    {
     "name": "stdout",
     "output_type": "stream",
     "text": [
      "服务器启动开始监听...\n"
     ]
    }
   ],
   "source": [
    "from socket import socket, SOCK_STREAM, AF_INET\n",
    "from base64 import b64encode\n",
    "from json import dumps\n",
    "from threading import Thread\n",
    "\n",
    "\n",
    "def main():\n",
    "    \n",
    "    # 自定义线程类\n",
    "    class FileTransferHandler(Thread):\n",
    "\n",
    "        def __init__(self, cclient):\n",
    "            super().__init__()\n",
    "            self.cclient = cclient\n",
    "\n",
    "        def run(self):\n",
    "            my_dict = {}\n",
    "            my_dict['filename'] = 'cat.jpg'\n",
    "            # JSON是纯文本不能携带二进制数据\n",
    "            # 所以图片的二进制数据要处理成base64编码\n",
    "            my_dict['filedata'] = data\n",
    "            # 通过dumps函数将字典处理成JSON字符串\n",
    "            json_str = dumps(my_dict)\n",
    "            # 发送JSON字符串\n",
    "            self.cclient.send(json_str.encode('utf-8'))\n",
    "            self.cclient.close()\n",
    "\n",
    "    # 1.创建套接字对象并指定使用哪种传输服务\n",
    "    server = socket()\n",
    "    # 2.绑定IP地址和端口(区分不同的服务)\n",
    "    server.bind(('192.168.86.23', 5568))\n",
    "    # 3.开启监听 - 监听客户端连接到服务器\n",
    "    server.listen(512)\n",
    "    print('服务器启动开始监听...')\n",
    "    with open('cat.jpg', 'rb') as f:\n",
    "        # 将二进制数据处理成base64再解码成字符串\n",
    "        data = b64encode(f.read()).decode('utf-8')\n",
    "    while True:\n",
    "        client, addr = server.accept()\n",
    "        # 启动一个线程来处理客户端的请求\n",
    "        FileTransferHandler(client).start()\n",
    "\n",
    "\n",
    "if __name__ == '__main__':\n",
    "    main()"
   ]
  },
  {
   "cell_type": "markdown",
   "metadata": {
    "colab": {},
    "colab_type": "code",
    "id": "dTrHNbFB6XFs"
   },
   "source": [
    "### 3. Create a client reciver"
   ]
  },
  {
   "cell_type": "code",
   "execution_count": null,
   "metadata": {},
   "outputs": [],
   "source": [
    "from socket import socket\n",
    "\n",
    "\n",
    "def main():\n",
    "    # 1.创建套接字对象默认使用IPv4和TCP协议\n",
    "    client = socket()\n",
    "    # 2.连接到服务器(需要指定IP地址和端口)\n",
    "    client.connect(('192.168.86.23', 4568))\n",
    "    # 3.从服务器接收数据\n",
    "    print(client.recv(1024).decode('utf-8'))\n",
    "    client.close()\n",
    "\n",
    "\n",
    "if __name__ == '__main__':\n",
    "    main()"
   ]
  },
  {
   "cell_type": "code",
   "execution_count": 0,
   "metadata": {
    "colab": {},
    "colab_type": "code",
    "id": "FJX_OAUa6l-L"
   },
   "outputs": [],
   "source": [
    "from socket import socket\n",
    "from json import loads\n",
    "from base64 import b64decode\n",
    "\n",
    "\n",
    "def main():\n",
    "    client = socket()\n",
    "    client.connect(('192.168.86.23', 5568))\n",
    "    # 定义一个保存二进制数据的对象\n",
    "    in_data = bytes()\n",
    "    # 由于不知道服务器发送的数据有多大每次接收1024字节\n",
    "    data = client.recv(1024)\n",
    "    while data:\n",
    "        # 将收到的数据拼接起来\n",
    "        in_data += data\n",
    "        data = client.recv(1024)\n",
    "    # 将收到的二进制数据解码成JSON字符串并转换成字典\n",
    "    # loads函数的作用就是将JSON字符串转成字典对象\n",
    "    my_dict = loads(in_data.decode('utf-8'))\n",
    "    filename = my_dict['filename']\n",
    "    filedata = my_dict['filedata'].encode('utf-8')\n",
    "    with open('/Users/Hao/' + filename, 'wb') as f:\n",
    "        # 将base64格式的数据解码成二进制数据并写入文件\n",
    "        f.write(b64decode(filedata))\n",
    "    print('图片已保存.')\n",
    "\n",
    "\n",
    "if __name__ == '__main__':\n",
    "    main()"
   ]
  },
  {
   "cell_type": "markdown",
   "metadata": {},
   "source": [
    "### 4. Email"
   ]
  },
  {
   "cell_type": "code",
   "execution_count": null,
   "metadata": {},
   "outputs": [],
   "source": [
    "from smtplib import SMTP\n",
    "from email.header import Header\n",
    "from email.mime.text import MIMEText\n",
    "\n",
    "\n",
    "def main():\n",
    "    # 请自行修改下面的邮件发送者和接收者\n",
    "    sender = 'abcdefg@126.com'\n",
    "    receivers = ['uvwxyz@qq.com', 'uvwxyz@126.com']\n",
    "    message = MIMEText('用Python发送邮件的示例代码.', 'plain', 'utf-8')\n",
    "    message['From'] = Header('王大锤', 'utf-8')\n",
    "    message['To'] = Header('骆昊', 'utf-8')\n",
    "    message['Subject'] = Header('示例代码实验邮件', 'utf-8')\n",
    "    smtper = SMTP('smtp.126.com')\n",
    "    # 请自行修改下面的登录口令\n",
    "    smtper.login(sender, 'secretpass')\n",
    "    smtper.sendmail(sender, receivers, message.as_string())\n",
    "    print('邮件发送完成!')\n",
    "\n",
    "\n",
    "if __name__ == '__main__':\n",
    "    main()"
   ]
  },
  {
   "cell_type": "code",
   "execution_count": null,
   "metadata": {},
   "outputs": [],
   "source": [
    "from smtplib import SMTP\n",
    "from email.header import Header\n",
    "from email.mime.text import MIMEText\n",
    "from email.mime.image import MIMEImage\n",
    "from email.mime.multipart import MIMEMultipart\n",
    "\n",
    "import urllib\n",
    "\n",
    "\n",
    "def main():\n",
    "    # 创建一个带附件的邮件消息对象\n",
    "    message = MIMEMultipart()\n",
    "    \n",
    "    # 创建文本内容\n",
    "    text_content = MIMEText('附件中有本月数据请查收', 'plain', 'utf-8')\n",
    "    message['Subject'] = Header('本月数据', 'utf-8')\n",
    "    # 将文本内容添加到邮件消息对象中\n",
    "    message.attach(text_content)\n",
    "\n",
    "    # 读取文件并将文件作为附件添加到邮件消息对象中\n",
    "    with open('/Users/Hao/Desktop/hello.txt', 'rb') as f:\n",
    "        txt = MIMEText(f.read(), 'base64', 'utf-8')\n",
    "        txt['Content-Type'] = 'text/plain'\n",
    "        txt['Content-Disposition'] = 'attachment; filename=hello.txt'\n",
    "        message.attach(txt)\n",
    "    # 读取文件并将文件作为附件添加到邮件消息对象中\n",
    "    with open('/Users/Hao/Desktop/汇总数据.xlsx', 'rb') as f:\n",
    "        xls = MIMEText(f.read(), 'base64', 'utf-8')\n",
    "        xls['Content-Type'] = 'application/vnd.ms-excel'\n",
    "        xls['Content-Disposition'] = 'attachment; filename=month-data.xlsx'\n",
    "        message.attach(xls)\n",
    "    \n",
    "    # 创建SMTP对象\n",
    "    smtper = SMTP('smtp.126.com')\n",
    "    # 开启安全连接\n",
    "    # smtper.starttls()\n",
    "    sender = 'abcdefg@126.com'\n",
    "    receivers = ['uvwxyz@qq.com']\n",
    "    # 登录到SMTP服务器\n",
    "    # 请注意此处不是使用密码而是邮件客户端授权码进行登录\n",
    "    # 对此有疑问的读者可以联系自己使用的邮件服务器客服\n",
    "    smtper.login(sender, 'secretpass')\n",
    "    # 发送邮件\n",
    "    smtper.sendmail(sender, receivers, message.as_string())\n",
    "    # 与邮件服务器断开连接\n",
    "    smtper.quit()\n",
    "    print('发送完成!')\n",
    "\n",
    "\n",
    "if __name__ == '__main__':\n",
    "    main()"
   ]
  },
  {
   "cell_type": "markdown",
   "metadata": {},
   "source": [
    "### 5. Send message"
   ]
  },
  {
   "cell_type": "code",
   "execution_count": null,
   "metadata": {},
   "outputs": [],
   "source": [
    "import urllib.parse\n",
    "import http.client\n",
    "import json\n",
    "\n",
    "\n",
    "def main():\n",
    "    host  = \"106.ihuyi.com\"\n",
    "    sms_send_uri = \"/webservice/sms.php?method=Submit\"\n",
    "    # 下面的参数需要填入自己注册的账号和对应的密码\n",
    "    params = urllib.parse.urlencode({'account': '你自己的账号', 'password' : '你自己的密码', 'content': '您的验证码是：147258。请不要把验证码泄露给其他人。', 'mobile': '接收者的手机号', 'format':'json' })\n",
    "    print(params)\n",
    "    headers = {'Content-type': 'application/x-www-form-urlencoded', 'Accept': 'text/plain'}\n",
    "    conn = http.client.HTTPConnection(host, port=80, timeout=30)\n",
    "    conn.request('POST', sms_send_uri, params, headers)\n",
    "    response = conn.getresponse()\n",
    "    response_str = response.read()\n",
    "    jsonstr = response_str.decode('utf-8')\n",
    "    print(json.loads(jsonstr))\n",
    "    conn.close()\n",
    "\n",
    "\n",
    "if __name__ == '__main__':\n",
    "    main()"
   ]
  }
 ],
 "metadata": {
  "colab": {
   "name": "Python100_Day014.ipynb",
   "provenance": [],
   "version": "0.3.2"
  },
  "kernelspec": {
   "display_name": "Python 3",
   "language": "python",
   "name": "python3"
  },
  "language_info": {
   "codemirror_mode": {
    "name": "ipython",
    "version": 3
   },
   "file_extension": ".py",
   "mimetype": "text/x-python",
   "name": "python",
   "nbconvert_exporter": "python",
   "pygments_lexer": "ipython3",
   "version": "3.7.3"
  }
 },
 "nbformat": 4,
 "nbformat_minor": 1
}
