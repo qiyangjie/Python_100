{
 "cells": [
  {
   "cell_type": "markdown",
   "metadata": {},
   "source": [
    "# 1. File IO\n",
    "## 1.1 Read File"
   ]
  },
  {
   "cell_type": "code",
   "execution_count": 2,
   "metadata": {},
   "outputs": [
    {
     "name": "stdout",
     "output_type": "stream",
     "text": [
      "\n"
     ]
    }
   ],
   "source": [
    "def main():\n",
    "    f = open('test.txt', 'r', encoding='utf-8')\n",
    "    print(f.read())\n",
    "    f.close()\n",
    "\n",
    "\n",
    "if __name__ == '__main__':\n",
    "    main()"
   ]
  },
  {
   "cell_type": "code",
   "execution_count": 3,
   "metadata": {},
   "outputs": [
    {
     "name": "stdout",
     "output_type": "stream",
     "text": [
      "无法打开指定的文件!\n"
     ]
    }
   ],
   "source": [
    "def main():\n",
    "    f = None\n",
    "    try:\n",
    "        f = open('致橡树.txt', 'r', encoding='utf-8')\n",
    "        print(f.read())\n",
    "    except FileNotFoundError:\n",
    "        print('无法打开指定的文件!')\n",
    "    except LookupError:\n",
    "        print('指定了未知的编码!')\n",
    "    except UnicodeDecodeError:\n",
    "        print('读取文件时解码错误!')\n",
    "    finally:\n",
    "        if f:\n",
    "            f.close()\n",
    "\n",
    "\n",
    "if __name__ == '__main__':\n",
    "    main()"
   ]
  },
  {
   "cell_type": "code",
   "execution_count": 4,
   "metadata": {},
   "outputs": [
    {
     "name": "stdout",
     "output_type": "stream",
     "text": [
      "无法打开指定的文件!\n"
     ]
    }
   ],
   "source": [
    "def main():\n",
    "    try:\n",
    "        with open('致橡树.txt', 'r', encoding='utf-8') as f:\n",
    "            print(f.read())\n",
    "    except FileNotFoundError:\n",
    "        print('无法打开指定的文件!')\n",
    "    except LookupError:\n",
    "        print('指定了未知的编码!')\n",
    "    except UnicodeDecodeError:\n",
    "        print('读取文件时解码错误!')\n",
    "\n",
    "\n",
    "if __name__ == '__main__':\n",
    "    main()"
   ]
  },
  {
   "cell_type": "code",
   "execution_count": 6,
   "metadata": {},
   "outputs": [
    {
     "name": "stdout",
     "output_type": "stream",
     "text": [
      "From The Dialy Oklahoman Newspaper, September 27, 1993, Page 1:\n",
      "\n",
      " COMPUTER PORN CASE TRIGGERS LEGAL QUESTIONS\n",
      " By David Zizzo, Staff Writer\n",
      "\n",
      "Is talking to Anthony Davis hazardous to your health?\n",
      "\n",
      "In a manner of speaking, that's what numerous people with computers and modems \n",
      "apparently have been worrying about since late July.  That's when Oklahoma \n",
      "City police raided Davis' software publishing firm and confiscated his \n",
      "sophisticated commercial computer bulletin board system.  Authorities allege \n",
      "Davis was selling pornographic computerized materials on CD-ROM and through \n",
      "files downloaded over phone lines.\n",
      "\n",
      "Names of everyone who signed onto Davis' bulletin board service, those who \n",
      "downloaded or uploaded graphic files depicting sexual acts and those who \n",
      "didn't are in the hands of investigators.\n",
      "\n",
      "After the arrest, Earl Faubion, a police officer who runs a law enforcement \n",
      "oriented computer bulletin board system, got numerous inquiries from worried \n",
      "users.  \"There are a lot of people concerned,\" Faubion said.  Many who used \n",
      "Davis' system for months and have been asking, \"Am I in trouble?\" Faubion, who \n",
      "ironically channeled much of his computer system's private mail through Davis' \n",
      "system before it was shut down, tells users that's out of his area of \n",
      "expertise.\n",
      "\n",
      "Bill Holmes, Davis' attorney, said bulletin board system operators fear their \n",
      "computers will be seized along with the electronic mail inside.\n",
      "\n",
      "The Davis bust sent a chill throughout the national computer community, said \n",
      "Jack Rickard, editor and publisher of Boardwatch magazine, a bulletin board \n",
      "newsletter published in Littleton, Colo.  \"It's causing chaos,\" he said.  \n",
      "Rickard said Oklahoma City is being viewed \"a little bit like clown city\" in \n",
      "computer circles, since the explicit material Davis offered can be purchased \n",
      "in nearly every computer magazine and is carried by numerous bulletin boards.  \n",
      "\"This is off the shelf,\" he said.  \"It's considered pretty mundane stuff.\"\n",
      "\n",
      "Widespread availability is not a defense, however, attorney Holmes said.  The \n",
      "allegedly illegal material was contained on four read-only memory compact \n",
      "discs and represented only a fraction of information offered by Davis.\n",
      "\n",
      "Oklahoma City police referred questions on the Davis case to the district \n",
      "attorney's office.  An assistant prosecutor handling the case referred \n",
      "questions to District Attorney Bob Macy, who did not return several phone \n",
      "calls.\n",
      "\n",
      "The bust will test Oklahoma laws on \"community standards\" regarding \n",
      "pornography, said Mike Godwin, attorney for the Electronic Frontier \n",
      "Foundation.  The Washington, D.C., advocacy group is funded by donors that \n",
      "include large software companies.  \"When you talk about community standards, \n",
      "who's the real community?\" Godwin wonders.  \"Is it the city or ... the \n",
      "community of people on-line?\"\n",
      "\n",
      "Holmes, a former Cleveland County prosecutor, calls Oklahoma's pornography law \n",
      "\"an extremely broad statute.\" \"I'm not sure it wouldn't include Playboy or \n",
      "Penthouse type publications,\" he said.\n",
      "\n",
      "Legal experts say Oklahoma's law appears aimed against sale or distribution of \n",
      "pornographic material.  That leaves some to wonder whether passing a free copy \n",
      "to a friend constitutes distribution.  Part of the law also appears to make \n",
      "possession a crime, but U.S.  Supreme Court rulings have backed an \n",
      "individual's right to own such material, Holmes said.  Also, free speech \n",
      "guarantees likely would protect those who use words to describe pornographic \n",
      "acts, he said.  Explicit materials depicting children are covered under much \n",
      "stricter laws, but Davis' CDs contained no such material.\n",
      "\n",
      "Apart from the pornography question is the issue of electronic mail seized \n",
      "with Davis' computer equipment, correspondence most legal experts say is \n",
      "protected by federal law.  Davis' computer was part of a large electronic mail \n",
      "system that shuttled messages across the country.\n",
      "\n",
      "Critics of the bust say likely lawsuits over the mail might show the \n",
      "government \"has bitten off more than it can chew.\" They point to a case in \n",
      "Austin where the owner of a computer won a $50,000 damage award over E-mail \n",
      "seized by the Secret Service.  The government also was liable for $1,000 for \n",
      "each user of the E-mail.  In Davis' case, that could be up to 2,000 clients, \n",
      "or $2 million.  \"The city of Oklahoma City could be on the hook for that,\" \n",
      "Rickard said.\n",
      "\n",
      "Critics also say police over reached in grabbing Davis' entire system, \n",
      "shutting down his pay-for-play computer service, because of four CDs.  \n",
      "Prosecutors are seeking forfeiture of the system, which includes a 13 gigabyte \n",
      "memory unit and 10 high speed modems.  \"They don't have to seize it any more \n",
      "than they have to seize the building when they confiscate a bookstore,\" said \n",
      "Godwin of the Electronic Frontier Foundation.\n",
      "From The Dialy Oklahoman Newspaper, September 27, 1993, Page 1:\n",
      "\n",
      " COMPUTER PORN CASE TRIGGERS LEGAL QUESTIONS\n",
      " By David Zizzo, Staff Writer\n",
      "\n",
      "Is talking to Anthony Davis hazardous to your health?\n",
      "\n",
      "In a manner of speaking, that's what numerous people with computers and modems \n",
      "apparently have been worrying about since late July.  That's when Oklahoma \n",
      "City police raided Davis' software publishing firm and confiscated his \n",
      "sophisticated commercial computer bulletin board system.  Authorities allege \n",
      "Davis was selling pornographic computerized materials on CD-ROM and through \n",
      "files downloaded over phone lines.\n",
      "\n",
      "Names of everyone who signed onto Davis' bulletin board service, those who \n",
      "downloaded or uploaded graphic files depicting sexual acts and those who \n",
      "didn't are in the hands of investigators.\n",
      "\n",
      "After the arrest, Earl Faubion, a police officer who runs a law enforcement \n",
      "oriented computer bulletin board system, got numerous inquiries from worried \n",
      "users.  \"There are a lot of people concerned,\" Faubion said.  Many who used \n",
      "Davis' system for months and have been asking, \"Am I in trouble?\" Faubion, who \n",
      "ironically channeled much of his computer system's private mail through Davis' \n",
      "system before it was shut down, tells users that's out of his area of \n",
      "expertise.\n",
      "\n",
      "Bill Holmes, Davis' attorney, said bulletin board system operators fear their \n",
      "computers will be seized along with the electronic mail inside.\n",
      "\n",
      "The Davis bust sent a chill throughout the national computer community, said \n",
      "Jack Rickard, editor and publisher of Boardwatch magazine, a bulletin board \n",
      "newsletter published in Littleton, Colo.  \"It's causing chaos,\" he said.  \n",
      "Rickard said Oklahoma City is being viewed \"a little bit like clown city\" in \n",
      "computer circles, since the explicit material Davis offered can be purchased \n",
      "in nearly every computer magazine and is carried by numerous bulletin boards.  \n",
      "\"This is off the shelf,\" he said.  \"It's considered pretty mundane stuff.\"\n",
      "\n",
      "Widespread availability is not a defense, however, attorney Holmes said.  The \n",
      "allegedly illegal material was contained on four read-only memory compact \n",
      "discs and represented only a fraction of information offered by Davis.\n",
      "\n",
      "Oklahoma City police referred questions on the Davis case to the district \n",
      "attorney's office.  An assistant prosecutor handling the case referred \n",
      "questions to District Attorney Bob Macy, who did not return several phone \n",
      "calls.\n",
      "\n",
      "The bust will test Oklahoma laws on \"community standards\" regarding \n",
      "pornography, said Mike Godwin, attorney for the Electronic Frontier \n",
      "Foundation.  The Washington, D.C., advocacy group is funded by donors that \n",
      "include large software companies.  \"When you talk about community standards, \n",
      "who's the real community?\" Godwin wonders.  \"Is it the city or ... the \n",
      "community of people on-line?\"\n",
      "\n",
      "Holmes, a former Cleveland County prosecutor, calls Oklahoma's pornography law \n",
      "\"an extremely broad statute.\" \"I'm not sure it wouldn't include Playboy or \n",
      "Penthouse type publications,\" he said.\n",
      "\n",
      "Legal experts say Oklahoma's law appears aimed against sale or distribution of \n",
      "pornographic material.  That leaves some to wonder whether passing a free copy \n",
      "to a friend constitutes distribution.  Part of the law also appears to make \n",
      "possession a crime, but U.S.  Supreme Court rulings have backed an \n",
      "individual's right to own such material, Holmes said.  Also, free speech \n",
      "guarantees likely would protect those who use words to describe pornographic \n"
     ]
    },
    {
     "name": "stdout",
     "output_type": "stream",
     "text": [
      "acts, he said.  Explicit materials depicting children are covered under much \n",
      "stricter laws, but Davis' CDs contained no such material.\n",
      "\n",
      "Apart from the pornography question is the issue of electronic mail seized \n",
      "with Davis' computer equipment, correspondence most legal experts say is \n",
      "protected by federal law.  Davis' computer was part of a large electronic mail \n",
      "system that shuttled messages across the country.\n",
      "\n",
      "Critics of the bust say likely lawsuits over the mail might show the \n",
      "government \"has bitten off more than it can chew.\" They point to a case in \n",
      "Austin where the owner of a computer won a $50,000 damage award over E-mail \n",
      "seized by the Secret Service.  The government also was liable for $1,000 for \n",
      "each user of the E-mail.  In Davis' case, that could be up to 2,000 clients, \n",
      "or $2 million.  \"The city of Oklahoma City could be on the hook for that,\" \n",
      "Rickard said.\n",
      "\n",
      "Critics also say police over reached in grabbing Davis' entire system, \n",
      "shutting down his pay-for-play computer service, because of four CDs.  \n",
      "Prosecutors are seeking forfeiture of the system, which includes a 13 gigabyte \n",
      "memory unit and 10 high speed modems.  \"They don't have to seize it any more \n",
      "than they have to seize the building when they confiscate a bookstore,\" said \n",
      "Godwin of the Electronic Frontier Foundation.\n",
      "['From The Dialy Oklahoman Newspaper, September 27, 1993, Page 1:\\n', '\\n', ' COMPUTER PORN CASE TRIGGERS LEGAL QUESTIONS\\n', ' By David Zizzo, Staff Writer\\n', '\\n', 'Is talking to Anthony Davis hazardous to your health?\\n', '\\n', \"In a manner of speaking, that's what numerous people with computers and modems \\n\", \"apparently have been worrying about since late July.  That's when Oklahoma \\n\", \"City police raided Davis' software publishing firm and confiscated his \\n\", 'sophisticated commercial computer bulletin board system.  Authorities allege \\n', 'Davis was selling pornographic computerized materials on CD-ROM and through \\n', 'files downloaded over phone lines.\\n', '\\n', \"Names of everyone who signed onto Davis' bulletin board service, those who \\n\", 'downloaded or uploaded graphic files depicting sexual acts and those who \\n', \"didn't are in the hands of investigators.\\n\", '\\n', 'After the arrest, Earl Faubion, a police officer who runs a law enforcement \\n', 'oriented computer bulletin board system, got numerous inquiries from worried \\n', 'users.  \"There are a lot of people concerned,\" Faubion said.  Many who used \\n', 'Davis\\' system for months and have been asking, \"Am I in trouble?\" Faubion, who \\n', \"ironically channeled much of his computer system's private mail through Davis' \\n\", \"system before it was shut down, tells users that's out of his area of \\n\", 'expertise.\\n', '\\n', \"Bill Holmes, Davis' attorney, said bulletin board system operators fear their \\n\", 'computers will be seized along with the electronic mail inside.\\n', '\\n', 'The Davis bust sent a chill throughout the national computer community, said \\n', 'Jack Rickard, editor and publisher of Boardwatch magazine, a bulletin board \\n', 'newsletter published in Littleton, Colo.  \"It\\'s causing chaos,\" he said.  \\n', 'Rickard said Oklahoma City is being viewed \"a little bit like clown city\" in \\n', 'computer circles, since the explicit material Davis offered can be purchased \\n', 'in nearly every computer magazine and is carried by numerous bulletin boards.  \\n', '\"This is off the shelf,\" he said.  \"It\\'s considered pretty mundane stuff.\"\\n', '\\n', 'Widespread availability is not a defense, however, attorney Holmes said.  The \\n', 'allegedly illegal material was contained on four read-only memory compact \\n', 'discs and represented only a fraction of information offered by Davis.\\n', '\\n', 'Oklahoma City police referred questions on the Davis case to the district \\n', \"attorney's office.  An assistant prosecutor handling the case referred \\n\", 'questions to District Attorney Bob Macy, who did not return several phone \\n', 'calls.\\n', '\\n', 'The bust will test Oklahoma laws on \"community standards\" regarding \\n', 'pornography, said Mike Godwin, attorney for the Electronic Frontier \\n', 'Foundation.  The Washington, D.C., advocacy group is funded by donors that \\n', 'include large software companies.  \"When you talk about community standards, \\n', 'who\\'s the real community?\" Godwin wonders.  \"Is it the city or ... the \\n', 'community of people on-line?\"\\n', '\\n', \"Holmes, a former Cleveland County prosecutor, calls Oklahoma's pornography law \\n\", '\"an extremely broad statute.\" \"I\\'m not sure it wouldn\\'t include Playboy or \\n', 'Penthouse type publications,\" he said.\\n', '\\n', \"Legal experts say Oklahoma's law appears aimed against sale or distribution of \\n\", 'pornographic material.  That leaves some to wonder whether passing a free copy \\n', 'to a friend constitutes distribution.  Part of the law also appears to make \\n', 'possession a crime, but U.S.  Supreme Court rulings have backed an \\n', \"individual's right to own such material, Holmes said.  Also, free speech \\n\", 'guarantees likely would protect those who use words to describe pornographic \\n', 'acts, he said.  Explicit materials depicting children are covered under much \\n', \"stricter laws, but Davis' CDs contained no such material.\\n\", '\\n', 'Apart from the pornography question is the issue of electronic mail seized \\n', \"with Davis' computer equipment, correspondence most legal experts say is \\n\", \"protected by federal law.  Davis' computer was part of a large electronic mail \\n\", 'system that shuttled messages across the country.\\n', '\\n', 'Critics of the bust say likely lawsuits over the mail might show the \\n', 'government \"has bitten off more than it can chew.\" They point to a case in \\n', 'Austin where the owner of a computer won a $50,000 damage award over E-mail \\n', 'seized by the Secret Service.  The government also was liable for $1,000 for \\n', \"each user of the E-mail.  In Davis' case, that could be up to 2,000 clients, \\n\", 'or $2 million.  \"The city of Oklahoma City could be on the hook for that,\" \\n', 'Rickard said.\\n', '\\n', \"Critics also say police over reached in grabbing Davis' entire system, \\n\", 'shutting down his pay-for-play computer service, because of four CDs.  \\n', 'Prosecutors are seeking forfeiture of the system, which includes a 13 gigabyte \\n', 'memory unit and 10 high speed modems.  \"They don\\'t have to seize it any more \\n', 'than they have to seize the building when they confiscate a bookstore,\" said \\n', 'Godwin of the Electronic Frontier Foundation.']\n"
     ]
    }
   ],
   "source": [
    "import time\n",
    "\n",
    "\n",
    "def main():\n",
    "    # 一次性读取整个文件内容\n",
    "    with open('test.txt', 'r', encoding='utf-8') as f:\n",
    "        print(f.read())\n",
    "\n",
    "    # 通过for-in循环逐行读取\n",
    "    with open('test.txt', mode='r') as f:\n",
    "        for line in f:\n",
    "            print(line, end='')\n",
    "            time.sleep(0.5)\n",
    "    print()\n",
    "\n",
    "    # 读取文件按行读取到列表中\n",
    "    with open('test.txt') as f:\n",
    "        lines = f.readlines()\n",
    "    print(lines)\n",
    "    \n",
    "\n",
    "if __name__ == '__main__':\n",
    "    main()"
   ]
  },
  {
   "cell_type": "markdown",
   "metadata": {},
   "source": [
    "## 1.2 Write file"
   ]
  },
  {
   "cell_type": "code",
   "execution_count": 7,
   "metadata": {},
   "outputs": [
    {
     "name": "stdout",
     "output_type": "stream",
     "text": [
      "操作完成!\n"
     ]
    }
   ],
   "source": [
    "from math import sqrt\n",
    "\n",
    "\n",
    "def is_prime(n):\n",
    "    \"\"\"判断素数的函数\"\"\"\n",
    "    assert n > 0\n",
    "    for factor in range(2, int(sqrt(n)) + 1):\n",
    "        if n % factor == 0:\n",
    "            return False\n",
    "    return True if n != 1 else False\n",
    "\n",
    "\n",
    "def main():\n",
    "    filenames = ('a.txt', 'b.txt', 'c.txt')\n",
    "    fs_list = []\n",
    "    try:\n",
    "        for filename in filenames:\n",
    "            fs_list.append(open(filename, 'w', encoding='utf-8'))\n",
    "        for number in range(1, 10000):\n",
    "            if is_prime(number):\n",
    "                if number < 100:\n",
    "                    fs_list[0].write(str(number) + '\\n')\n",
    "                elif number < 1000:\n",
    "                    fs_list[1].write(str(number) + '\\n')\n",
    "                else:\n",
    "                    fs_list[2].write(str(number) + '\\n')\n",
    "    except IOError as ex:\n",
    "        print(ex)\n",
    "        print('写文件时发生错误!')\n",
    "    finally:\n",
    "        for fs in fs_list:\n",
    "            fs.close()\n",
    "    print('操作完成!')\n",
    "\n",
    "\n",
    "if __name__ == '__main__':\n",
    "    main()"
   ]
  },
  {
   "cell_type": "markdown",
   "metadata": {},
   "source": [
    "## 1.3 Read and Write binary file"
   ]
  },
  {
   "cell_type": "code",
   "execution_count": 9,
   "metadata": {},
   "outputs": [
    {
     "name": "stdout",
     "output_type": "stream",
     "text": [
      "<class 'bytes'>\n",
      "程序执行结束.\n"
     ]
    }
   ],
   "source": [
    "def main():\n",
    "    try:\n",
    "        with open('cat.jpg', 'rb') as fs1:\n",
    "            data = fs1.read()\n",
    "            print(type(data))  # <class 'bytes'>\n",
    "        with open('猫.jpg', 'wb') as fs2:\n",
    "            fs2.write(data)\n",
    "    except FileNotFoundError as e:\n",
    "        print('指定的文件无法打开.')\n",
    "    except IOError as e:\n",
    "        print('读写文件时出现错误.')\n",
    "    print('程序执行结束.')\n",
    "\n",
    "\n",
    "if __name__ == '__main__':\n",
    "    main()"
   ]
  },
  {
   "cell_type": "markdown",
   "metadata": {},
   "source": [
    "## 1.4 JSON file"
   ]
  },
  {
   "cell_type": "code",
   "execution_count": 10,
   "metadata": {},
   "outputs": [
    {
     "name": "stdout",
     "output_type": "stream",
     "text": [
      "保存数据完成!\n"
     ]
    }
   ],
   "source": [
    "import json\n",
    "\n",
    "\n",
    "def main():\n",
    "    mydict = {\n",
    "        'name': '骆昊',\n",
    "        'age': 38,\n",
    "        'qq': 957658,\n",
    "        'friends': ['王大锤', '白元芳'],\n",
    "        'cars': [\n",
    "            {'brand': 'BYD', 'max_speed': 180},\n",
    "            {'brand': 'Audi', 'max_speed': 280},\n",
    "            {'brand': 'Benz', 'max_speed': 320}\n",
    "        ]\n",
    "    }\n",
    "    try:\n",
    "        with open('data.json', 'w', encoding='utf-8') as fs:\n",
    "            json.dump(mydict, fs)\n",
    "    except IOError as e:\n",
    "        print(e)\n",
    "    print('保存数据完成!')\n",
    "\n",
    "\n",
    "if __name__ == '__main__':\n",
    "    main()"
   ]
  },
  {
   "cell_type": "code",
   "execution_count": 18,
   "metadata": {},
   "outputs": [
    {
     "name": "stdout",
     "output_type": "stream",
     "text": [
      "{'code': 270, 'msg': '天行币余额不足'}\n"
     ]
    }
   ],
   "source": [
    "import requests\n",
    "import json\n",
    "\n",
    "\n",
    "def main():\n",
    "    resp = requests.get('http://api.tianapi.com/guonei/?&key=&num=10')\n",
    "    data_model = json.loads(resp.text)\n",
    "    print(data_model)\n",
    "    #for news in data_model['newslist']:\n",
    "    #    print(news['title'])\n",
    "\n",
    "\n",
    "if __name__ == '__main__':\n",
    "    main()"
   ]
  }
 ],
 "metadata": {
  "kernelspec": {
   "display_name": "Python 3",
   "language": "python",
   "name": "python3"
  },
  "language_info": {
   "codemirror_mode": {
    "name": "ipython",
    "version": 3
   },
   "file_extension": ".py",
   "mimetype": "text/x-python",
   "name": "python",
   "nbconvert_exporter": "python",
   "pygments_lexer": "ipython3",
   "version": "3.7.3"
  }
 },
 "nbformat": 4,
 "nbformat_minor": 2
}
