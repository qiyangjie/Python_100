{
 "cells": [
  {
   "cell_type": "markdown",
   "metadata": {},
   "source": [
    "# Day2: Variable Types and Operations"
   ]
  },
  {
   "cell_type": "markdown",
   "metadata": {},
   "source": [
    "## 1. Variable Type\n",
    "* int\n",
    "* float\n",
    "* string\n",
    "* bool\n",
    "* complex\n",
    " * 3+5j\n",
    " * complex(real, imag)\n",
    "\n",
    "## 2. Variable Name\n",
    "### 2.1 Requirement\n",
    "* Consist with alphabet, number and underscore\n",
    "* Sensitive with captial letters and lowercase letters\n",
    "\n",
    "### 2.2 PEP 8\n",
    "* Use lowercase letter and connect with underscore\n",
    "* Use single underscore to begin proctected instance(Discuss later).\n",
    "* Use double underscore to begin private instance (Discuss later).\n",
    "\n",
    "## 3. Useage of Variable"
   ]
  },
  {
   "cell_type": "code",
   "execution_count": 1,
   "metadata": {},
   "outputs": [
    {
     "name": "stdout",
     "output_type": "stream",
     "text": [
      "444\n",
      "198\n",
      "39483\n",
      "2.6097560975609757\n",
      "2\n",
      "75\n",
      "199580904170858944588683464608694075062943107082809027605498347841561605181074274426665986623764972439807786764739130193391688887305693295698132008415537889753720415793877902074665765736230030622222862498385818118244547668141388643750880896837470534556730014314212951333550122949806119583030226121714710874561\n"
     ]
    }
   ],
   "source": [
    "\"\"\"\n",
    "使用变量保存数据并进行算术运算\n",
    "\n",
    "Version: 0.1\n",
    "Author: 骆昊\n",
    "\"\"\"\n",
    "\n",
    "a = 321\n",
    "b = 123\n",
    "print(a + b)\n",
    "print(a - b)\n",
    "print(a * b)\n",
    "print(a / b)\n",
    "print(a // b)\n",
    "print(a % b)\n",
    "print(a ** b)"
   ]
  },
  {
   "cell_type": "code",
   "execution_count": 2,
   "metadata": {},
   "outputs": [
    {
     "name": "stdout",
     "output_type": "stream",
     "text": [
      "a = 321\n",
      "b = 123\n",
      "321 + 123 = 444\n",
      "321 - 123 = 198\n",
      "321 * 123 = 39483\n",
      "321 / 123 = 2.609756\n",
      "321 // 123 = 2\n",
      "321 % 123 = 75\n",
      "321 ** 123 = 199580904170858944588683464608694075062943107082809027605498347841561605181074274426665986623764972439807786764739130193391688887305693295698132008415537889753720415793877902074665765736230030622222862498385818118244547668141388643750880896837470534556730014314212951333550122949806119583030226121714710874561\n"
     ]
    }
   ],
   "source": [
    "\"\"\"\n",
    "使用input函数输入\n",
    "使用int()进行类型转换\n",
    "用占位符格式化输出的字符串\n",
    "\n",
    "Version: 0.1\n",
    "Author: 骆昊\n",
    "\"\"\"\n",
    "\n",
    "a = int(input('a = '))\n",
    "b = int(input('b = '))\n",
    "print('%d + %d = %d' % (a, b, a + b))\n",
    "print('%d - %d = %d' % (a, b, a - b))\n",
    "print('%d * %d = %d' % (a, b, a * b))\n",
    "print('%d / %d = %f' % (a, b, a / b))\n",
    "print('%d // %d = %d' % (a, b, a // b))\n",
    "print('%d %% %d = %d' % (a, b, a % b))\n",
    "print('%d ** %d = %d' % (a, b, a ** b))"
   ]
  },
  {
   "cell_type": "code",
   "execution_count": 3,
   "metadata": {},
   "outputs": [
    {
     "name": "stdout",
     "output_type": "stream",
     "text": [
      "<class 'int'>\n",
      "<class 'float'>\n",
      "<class 'complex'>\n",
      "<class 'str'>\n",
      "<class 'bool'>\n"
     ]
    }
   ],
   "source": [
    "\"\"\"\n",
    "使用type()检查变量的类型\n",
    "\n",
    "Version: 0.1\n",
    "Author: 骆昊\n",
    "Date: 2018-02-27\n",
    "\"\"\"\n",
    "\n",
    "a = 100\n",
    "b = 12.345\n",
    "c = 1 + 5j\n",
    "d = 'hello, world'\n",
    "e = True\n",
    "print(type(a))\n",
    "print(type(b))\n",
    "print(type(c))\n",
    "print(type(d))\n",
    "print(type(e))"
   ]
  },
  {
   "cell_type": "code",
   "execution_count": 9,
   "metadata": {},
   "outputs": [
    {
     "name": "stdout",
     "output_type": "stream",
     "text": [
      "100\n",
      "<class 'int'>\n",
      "100\n",
      "<class 'str'>\n",
      "12.345\n",
      "<class 'float'>\n",
      "12.345\n",
      "<class 'str'>\n",
      "123\n",
      "<class 'str'>\n",
      "123\n",
      "<class 'int'>\n",
      "123.456\n",
      "<class 'str'>\n",
      "123.456\n",
      "<class 'float'>\n",
      "False\n",
      "<class 'bool'>\n",
      "False\n",
      "<class 'str'>\n",
      "hello\n",
      "<class 'str'>\n",
      "True\n",
      "<class 'bool'>\n"
     ]
    }
   ],
   "source": [
    "\"\"\"\n",
    "类型转换\n",
    "Version: 0.1\n",
    "Author: 骆昊\n",
    "Date: 2018-02-27\n",
    "\"\"\"\n",
    "\n",
    "a = 100\n",
    "b = str(a)\n",
    "c = 12.345\n",
    "d = str(c)\n",
    "e = '123'\n",
    "f = int(e)\n",
    "g = '123.456'\n",
    "h = float(g)\n",
    "i = False\n",
    "j = str(i)\n",
    "k = 'hello'\n",
    "m = bool(k)\n",
    "print(a)\n",
    "print(type(a))\n",
    "print(b)\n",
    "print(type(b))\n",
    "print(c)\n",
    "print(type(c))\n",
    "print(d)\n",
    "print(type(d))\n",
    "print(e)\n",
    "print(type(e))\n",
    "print(f)\n",
    "print(type(f))\n",
    "print(g)\n",
    "print(type(g))\n",
    "print(h)\n",
    "print(type(h))\n",
    "print(i)\n",
    "print(type(i))\n",
    "print(j)\n",
    "print(type(j))\n",
    "print(k)\n",
    "print(type(k))\n",
    "print(m)\n",
    "print(type(m))"
   ]
  },
  {
   "cell_type": "code",
   "execution_count": 8,
   "metadata": {},
   "outputs": [
    {
     "name": "stdout",
     "output_type": "stream",
     "text": [
      "字符串的长度是: 13\n",
      "单词首字母大写:  Hello, World!\n",
      "字符串变大写:  HELLO, WORLD!\n",
      "字符串是不是大写:  False\n",
      "字符串是不是以hello开头:  True\n",
      "字符串是不是以hello结尾:  False\n",
      "字符串是不是以感叹号开头:  False\n",
      "字符串是不是一感叹号结尾:  True\n",
      "Hello, World! - 骆昊\n"
     ]
    }
   ],
   "source": [
    "\"\"\"\n",
    "字符串常用操作\n",
    "Version: 0.1\n",
    "Author: 骆昊\n",
    "Date: 2018-02-27\n",
    "\"\"\"\n",
    "\n",
    "str1 = 'hello, world!'\n",
    "print('字符串的长度是:', len(str1))\n",
    "print('单词首字母大写: ', str1.title())\n",
    "print('字符串变大写: ', str1.upper())\n",
    "# str1 = str1.upper()\n",
    "print('字符串是不是大写: ', str1.isupper())\n",
    "print('字符串是不是以hello开头: ', str1.startswith('hello'))\n",
    "print('字符串是不是以hello结尾: ', str1.endswith('hello'))\n",
    "print('字符串是不是以感叹号开头: ', str1.startswith('!'))\n",
    "print('字符串是不是一感叹号结尾: ', str1.endswith('!'))\n",
    "str2 = '- \\u9a86\\u660a'\n",
    "str3 = str1.title() + ' ' + str2.lower()\n",
    "print(str3)"
   ]
  },
  {
   "cell_type": "markdown",
   "metadata": {},
   "source": [
    "## 3. Operations\n",
    "\n",
    "| 运算符                                    | 描述                  |\n",
    "| ------------------------------------------------------------| -----------------------------|\n",
    "| `[]` `[:]`                                  | 下标，切片             |\n",
    "| `**`                                      | 指数                 |\n",
    "| `~` `+` `-`                                 | 按位取反, 正负号         |\n",
    "| `*` `/` `%` `//`                              | 乘，除，模，整除         |\n",
    "| `+` `-`                                    | 加，减                |\n",
    "| `>>` `<<`                                  | 右移，左移              |\n",
    "| `&`                                      | 按位与                 |\n",
    "| `^` `|`                                    | 按位异或，按位或          |\n",
    "| `<=` `<` `>` `>=`                             | 小于等于，小于，大于，大于等于 |\n",
    "| `==` `!=`                                  | 等于，不等于              |\n",
    "| `is`  `is not`                              | 身份运算符               |\n",
    "| `in` `not in`                               | 成员运算符               |\n",
    "| `not` `or` `and`                             | 逻辑运算符               |\n",
    "| `=` `+=` `-=` `*=` `/=` `%=` `//=` `**=` `&=` `|=` `^=` `>>=` `<<=` | （复合）赋值运算符    |\n"
   ]
  },
  {
   "cell_type": "code",
   "execution_count": 4,
   "metadata": {},
   "outputs": [
    {
     "name": "stdout",
     "output_type": "stream",
     "text": [
      "a =  9.6\n",
      "flag1 =  True\n",
      "flag2 =  False\n",
      "flag3 =  False\n",
      "flag4 =  True\n",
      "flag5 =  False\n",
      "True\n",
      "False\n"
     ]
    }
   ],
   "source": [
    "\"\"\"\n",
    "运算符的使用\n",
    "\n",
    "Version: 0.1\n",
    "Author: 骆昊\n",
    "\"\"\"\n",
    "\n",
    "a = 5\n",
    "b = 10\n",
    "c = 3\n",
    "d = 4\n",
    "e = 5\n",
    "a += b\n",
    "a -= c\n",
    "a *= d\n",
    "a /= e\n",
    "print(\"a = \", a)\n",
    "\n",
    "flag1 = 3 > 2\n",
    "flag2 = 2 < 1\n",
    "flag3 = flag1 and flag2\n",
    "flag4 = flag1 or flag2\n",
    "flag5 = not flag1\n",
    "print(\"flag1 = \", flag1)\n",
    "print(\"flag2 = \", flag2)\n",
    "print(\"flag3 = \", flag3)\n",
    "print(\"flag4 = \", flag4)\n",
    "print(\"flag5 = \", flag5)\n",
    "print(flag1 is True)\n",
    "print(flag2 is not False)"
   ]
  },
  {
   "cell_type": "markdown",
   "metadata": {},
   "source": [
    "# Practice\n",
    "\n",
    "## 1. Fahrenheit to Celsius"
   ]
  },
  {
   "cell_type": "code",
   "execution_count": 5,
   "metadata": {},
   "outputs": [
    {
     "name": "stdout",
     "output_type": "stream",
     "text": [
      "请输入华氏温度: 1.8\n",
      "1.8华氏度 = -16.8摄氏度\n"
     ]
    }
   ],
   "source": [
    "\"\"\"\n",
    "将华氏温度转换为摄氏温度\n",
    "F = 1.8C + 32\n",
    "\n",
    "Version: 0.1\n",
    "Author: 骆昊\n",
    "\"\"\"\n",
    "\n",
    "f = float(input('请输入华氏温度: '))\n",
    "c = (f - 32) / 1.8\n",
    "print('%.1f华氏度 = %.1f摄氏度' % (f, c))"
   ]
  },
  {
   "cell_type": "markdown",
   "metadata": {},
   "source": [
    "## 2. Compute Area of Circle"
   ]
  },
  {
   "cell_type": "code",
   "execution_count": 6,
   "metadata": {},
   "outputs": [
    {
     "name": "stdout",
     "output_type": "stream",
     "text": [
      "请输入圆的半径: 3\n",
      "周长: 18.85\n",
      "面积: 28.27\n"
     ]
    }
   ],
   "source": [
    "\"\"\"\n",
    "输入半径计算圆的周长和面积\n",
    "\n",
    "Version: 0.1\n",
    "Author: 骆昊\n",
    "\"\"\"\n",
    "\n",
    "import math\n",
    "\n",
    "radius = float(input('请输入圆的半径: '))\n",
    "perimeter = 2 * math.pi * radius\n",
    "area = math.pi * radius * radius\n",
    "print('周长: %.2f' % perimeter)\n",
    "print('面积: %.2f' % area)"
   ]
  },
  {
   "cell_type": "markdown",
   "metadata": {},
   "source": [
    "## 3 Leep or Ordinary Year"
   ]
  },
  {
   "cell_type": "code",
   "execution_count": 7,
   "metadata": {},
   "outputs": [
    {
     "name": "stdout",
     "output_type": "stream",
     "text": [
      "请输入年份: 2000\n",
      "True\n"
     ]
    }
   ],
   "source": [
    "\"\"\"\n",
    "输入年份 如果是闰年输出True 否则输出False\n",
    "\n",
    "Version: 0.1\n",
    "Author: 骆昊\n",
    "\"\"\"\n",
    "\n",
    "year = int(input('请输入年份: '))\n",
    "# 如果代码太长写成一行不便于阅读 可以使用\\或()折行\n",
    "is_leap = (year % 4 == 0 and year % 100 != 0 or\n",
    "           year % 400 == 0)\n",
    "print(is_leap)"
   ]
  }
 ],
 "metadata": {
  "kernelspec": {
   "display_name": "Python 3",
   "language": "python",
   "name": "python3"
  },
  "language_info": {
   "codemirror_mode": {
    "name": "ipython",
    "version": 3
   },
   "file_extension": ".py",
   "mimetype": "text/x-python",
   "name": "python",
   "nbconvert_exporter": "python",
   "pygments_lexer": "ipython3",
   "version": "3.7.3"
  }
 },
 "nbformat": 4,
 "nbformat_minor": 2
}
