{
 "cells": [
  {
   "cell_type": "markdown",
   "metadata": {},
   "source": [
    "# Day2: Variable Types and Operations"
   ]
  },
  {
   "cell_type": "markdown",
   "metadata": {},
   "source": [
    "## 1. Value and type\n",
    "* int\n",
    "* float\n",
    "* string\n",
    "* bool\n",
    "* complex\n",
    " * 3+5j\n",
    " * complex(real, imag)\n",
    "\n",
    "## 2. Variable\n",
    "### 2.1 Requirement\n",
    "* Consist with alphabet, number and underscore\n",
    "* Sensitive with captial letters and lowercase letters\n",
    "\n",
    "### 2.2 PEP 8\n",
    "* Use lowercase letter and connect with underscore\n",
    "* Use single underscore to begin proctected instance(Discuss later).\n",
    "* Use double underscore to begin private instance (Discuss later).\n",
    "\n",
    "## 3. Useage of Variable\n",
    "### 3.1 Operators and operands"
   ]
  },
  {
   "cell_type": "code",
   "execution_count": 1,
   "metadata": {},
   "outputs": [
    {
     "name": "stdout",
     "output_type": "stream",
     "text": [
      "444\n",
      "198\n",
      "39483\n",
      "2.6097560975609757\n",
      "2\n",
      "75\n",
      "199580904170858944588683464608694075062943107082809027605498347841561605181074274426665986623764972439807786764739130193391688887305693295698132008415537889753720415793877902074665765736230030622222862498385818118244547668141388643750880896837470534556730014314212951333550122949806119583030226121714710874561\n"
     ]
    }
   ],
   "source": [
    "a = 321\n",
    "b = 123\n",
    "print(a + b)\n",
    "print(a - b)\n",
    "print(a * b)\n",
    "print(a / b)\n",
    "print(a // b)\n",
    "print(a % b)\n",
    "print(a ** b)"
   ]
  },
  {
   "cell_type": "code",
   "execution_count": 3,
   "metadata": {},
   "outputs": [
    {
     "name": "stdout",
     "output_type": "stream",
     "text": [
      "a = 5\n",
      "b = 7\n",
      "5 + 7 = 12\n",
      "5 - 7 = -2\n",
      "5 * 7 = 35\n",
      "5 / 7 = 0.714286\n",
      "5 // 7 = 0\n",
      "5 % 7 = 5\n",
      "5 ** 7 = 78125\n"
     ]
    }
   ],
   "source": [
    "a = int(input('a = '))\n",
    "b = int(input('b = '))\n",
    "print('%d + %d = %d' % (a, b, a + b))\n",
    "print('%d - %d = %d' % (a, b, a - b))\n",
    "print('%d * %d = %d' % (a, b, a * b))\n",
    "print('%d / %d = %f' % (a, b, a / b))\n",
    "print('%d // %d = %d' % (a, b, a // b))\n",
    "print('%d %% %d = %d' % (a, b, a % b))\n",
    "print('%d ** %d = %d' % (a, b, a ** b))"
   ]
  },
  {
   "cell_type": "markdown",
   "metadata": {},
   "source": [
    "### 3.2 Function type()"
   ]
  },
  {
   "cell_type": "code",
   "execution_count": 4,
   "metadata": {},
   "outputs": [
    {
     "name": "stdout",
     "output_type": "stream",
     "text": [
      "<class 'int'>\n",
      "<class 'float'>\n",
      "<class 'complex'>\n",
      "<class 'str'>\n",
      "<class 'bool'>\n"
     ]
    }
   ],
   "source": [
    "a = 100\n",
    "b = 12.345\n",
    "c = 1 + 5j\n",
    "d = 'hello, world'\n",
    "e = True\n",
    "print(type(a))\n",
    "print(type(b))\n",
    "print(type(c))\n",
    "print(type(d))\n",
    "print(type(e))"
   ]
  },
  {
   "cell_type": "markdown",
   "metadata": {},
   "source": [
    "### 3.2 Data Type Transfermation"
   ]
  },
  {
   "cell_type": "code",
   "execution_count": 5,
   "metadata": {},
   "outputs": [
    {
     "name": "stdout",
     "output_type": "stream",
     "text": [
      "100\n",
      "<class 'int'>\n",
      "100\n",
      "<class 'str'>\n",
      "12.345\n",
      "<class 'float'>\n",
      "12.345\n",
      "<class 'str'>\n",
      "123\n",
      "<class 'str'>\n",
      "123\n",
      "<class 'int'>\n",
      "123.456\n",
      "<class 'str'>\n",
      "123.456\n",
      "<class 'float'>\n",
      "False\n",
      "<class 'bool'>\n",
      "False\n",
      "<class 'str'>\n",
      "hello\n",
      "<class 'str'>\n",
      "True\n",
      "<class 'bool'>\n"
     ]
    }
   ],
   "source": [
    "a = 100\n",
    "b = str(a)\n",
    "c = 12.345\n",
    "d = str(c)\n",
    "e = '123'\n",
    "f = int(e)\n",
    "g = '123.456'\n",
    "h = float(g)\n",
    "i = False\n",
    "j = str(i)\n",
    "k = 'hello'\n",
    "m = bool(k)\n",
    "print(a)\n",
    "print(type(a))\n",
    "print(b)\n",
    "print(type(b))\n",
    "print(c)\n",
    "print(type(c))\n",
    "print(d)\n",
    "print(type(d))\n",
    "print(e)\n",
    "print(type(e))\n",
    "print(f)\n",
    "print(type(f))\n",
    "print(g)\n",
    "print(type(g))\n",
    "print(h)\n",
    "print(type(h))\n",
    "print(i)\n",
    "print(type(i))\n",
    "print(j)\n",
    "print(type(j))\n",
    "print(k)\n",
    "print(type(k))\n",
    "print(m)\n",
    "print(type(m))"
   ]
  },
  {
   "cell_type": "markdown",
   "metadata": {},
   "source": [
    "### 3.3 String operation"
   ]
  },
  {
   "cell_type": "code",
   "execution_count": 14,
   "metadata": {},
   "outputs": [
    {
     "name": "stdout",
     "output_type": "stream",
     "text": [
      "Length of string: 13\n",
      "Capitalize first letter:  Hello, World!\n",
      "Capitalize all letters:  HELLO, WORLD!\n",
      "Does string captilize:  False\n",
      "Does string start with hello:  True\n",
      "Does string end with hello:  False\n",
      "Does string start with !:  False\n",
      "Does string end with !:  True\n",
      "Hello, World! - Jax\n"
     ]
    }
   ],
   "source": [
    "str1 = 'hello, world!'\n",
    "print('Length of string:', len(str1))\n",
    "print('Capitalize first letter: ', str1.title())\n",
    "print('Capitalize all letters: ', str1.upper())\n",
    "# str1 = str1.upper()\n",
    "print('Does string captilize: ', str1.isupper())\n",
    "print('Does string start with hello: ', str1.startswith('hello'))\n",
    "print('Does string end with hello: ', str1.endswith('hello'))\n",
    "print('Does string start with !: ', str1.startswith('!'))\n",
    "print('Does string end with !: ', str1.endswith('!'))\n",
    "str2 = '- Jax'\n",
    "str3 = str1.title() + ' ' + str2\n",
    "print(str3)"
   ]
  },
  {
   "cell_type": "markdown",
   "metadata": {},
   "source": [
    "## 4. Operations\n",
    "\n",
    "| 运算符                                    | 描述                  |\n",
    "| ------------------------------------------------------------| -----------------------------|\n",
    "| `[]` `[:]`                                  | 下标，切片             |\n",
    "| `**`                                      | 指数                 |\n",
    "| `~` `+` `-`                                 | 按位取反, 正负号         |\n",
    "| `*` `/` `%` `//`                              | 乘，除，模，整除         |\n",
    "| `+` `-`                                    | 加，减                |\n",
    "| `>>` `<<`                                  | 右移，左移              |\n",
    "| `&`                                      | 按位与                 |\n",
    "| `^` `|`                                    | 按位异或，按位或          |\n",
    "| `<=` `<` `>` `>=`                             | 小于等于，小于，大于，大于等于 |\n",
    "| `==` `!=`                                  | 等于，不等于              |\n",
    "| `is`  `is not`                              | 身份运算符               |\n",
    "| `in` `not in`                               | 成员运算符               |\n",
    "| `not` `or` `and`                             | 逻辑运算符               |\n",
    "| `=` `+=` `-=` `*=` `/=` `%=` `//=` `**=` `&=` `|=` `^=` `>>=` `<<=` | （复合）赋值运算符    |\n"
   ]
  },
  {
   "cell_type": "code",
   "execution_count": 11,
   "metadata": {},
   "outputs": [
    {
     "name": "stdout",
     "output_type": "stream",
     "text": [
      "a =  9.6\n",
      "flag1 =  True\n",
      "flag2 =  False\n",
      "flag3 =  False\n",
      "flag4 =  True\n",
      "flag5 =  False\n",
      "True\n",
      "False\n"
     ]
    }
   ],
   "source": [
    "a = 5\n",
    "b = 10\n",
    "c = 3\n",
    "d = 4\n",
    "e = 5\n",
    "a += b\n",
    "a -= c\n",
    "a *= d\n",
    "a /= e\n",
    "print(\"a = \", a)\n",
    "\n",
    "flag1 = 3 > 2\n",
    "flag2 = 2 < 1\n",
    "flag3 = flag1 and flag2\n",
    "flag4 = flag1 or flag2\n",
    "flag5 = not flag1\n",
    "print(\"flag1 = \", flag1)\n",
    "print(\"flag2 = \", flag2)\n",
    "print(\"flag3 = \", flag3)\n",
    "print(\"flag4 = \", flag4)\n",
    "print(\"flag5 = \", flag5)\n",
    "print(flag1 is True)\n",
    "print(flag2 is not False)"
   ]
  },
  {
   "cell_type": "markdown",
   "metadata": {},
   "source": [
    "# Practice\n",
    "\n",
    "## 1. Fahrenheit to Celsius"
   ]
  },
  {
   "cell_type": "code",
   "execution_count": 16,
   "metadata": {},
   "outputs": [
    {
     "name": "stdout",
     "output_type": "stream",
     "text": [
      "Please enter Fahrenheit temperature: 79\n",
      "79.0 Fahrenheit = 26.1 Celsius\n"
     ]
    }
   ],
   "source": [
    "f = float(input('Please enter Fahrenheit temperature: '))\n",
    "c = (f - 32) / 1.8\n",
    "print('%.1f Fahrenheit = %.1f Celsius' % (f, c))"
   ]
  },
  {
   "cell_type": "markdown",
   "metadata": {},
   "source": [
    "## 2. Compute Perimeter and Area of Circle"
   ]
  },
  {
   "cell_type": "code",
   "execution_count": 17,
   "metadata": {},
   "outputs": [
    {
     "name": "stdout",
     "output_type": "stream",
     "text": [
      "Please enter radius of circule: 3\n",
      "Primeter: 18.85\n",
      "Area: 28.27\n"
     ]
    }
   ],
   "source": [
    "import math\n",
    "\n",
    "radius = float(input('Please enter radius of circule: '))\n",
    "perimeter = 2 * math.pi * radius\n",
    "area = math.pi * radius * radius\n",
    "print('Primeter: %.2f' % perimeter)\n",
    "print('Area: %.2f' % area)"
   ]
  },
  {
   "cell_type": "markdown",
   "metadata": {},
   "source": [
    "## 3 Whether input year is leep year or not?"
   ]
  },
  {
   "cell_type": "code",
   "execution_count": 18,
   "metadata": {},
   "outputs": [
    {
     "name": "stdout",
     "output_type": "stream",
     "text": [
      "Please enter year: 1998\n",
      "False\n"
     ]
    }
   ],
   "source": [
    "year = int(input('Please enter year: '))\n",
    "is_leap = (year % 4 == 0 and year % 100 != 0 or\n",
    "           year % 400 == 0)\n",
    "print(is_leap)"
   ]
  }
 ],
 "metadata": {
  "kernelspec": {
   "display_name": "Python 3",
   "language": "python",
   "name": "python3"
  },
  "language_info": {
   "codemirror_mode": {
    "name": "ipython",
    "version": 3
   },
   "file_extension": ".py",
   "mimetype": "text/x-python",
   "name": "python",
   "nbconvert_exporter": "python",
   "pygments_lexer": "ipython3",
   "version": "3.7.3"
  }
 },
 "nbformat": 4,
 "nbformat_minor": 2
}
