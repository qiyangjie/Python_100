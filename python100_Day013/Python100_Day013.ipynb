{
 "cells": [
  {
   "cell_type": "markdown",
   "metadata": {
    "colab_type": "text",
    "id": "U9stz87yR45k"
   },
   "source": [
    "## Process and Thread\n",
    "\n",
    "### 1. Multi-process in Python\n",
    "### 1.1 Single Process"
   ]
  },
  {
   "cell_type": "code",
   "execution_count": 1,
   "metadata": {
    "colab": {
     "base_uri": "https://localhost:8080/",
     "height": 102
    },
    "colab_type": "code",
    "id": "DAynRwpUR45l",
    "outputId": "353b06fe-0a1c-4013-fa6c-6f68aae8906c"
   },
   "outputs": [
    {
     "name": "stdout",
     "output_type": "stream",
     "text": [
      "开始下载Python从入门到住院.pdf...\n",
      "Python从入门到住院.pdf下载完成! 耗费了9秒\n",
      "开始下载Peking Hot.avi...\n",
      "Peking Hot.avi下载完成! 耗费了6秒\n",
      "总共耗费了15.01秒.\n"
     ]
    }
   ],
   "source": [
    "from random import randint\n",
    "from time import time, sleep\n",
    "\n",
    "\n",
    "def download_task(filename):\n",
    "    print('开始下载%s...' % filename)\n",
    "    time_to_download = randint(5, 10)\n",
    "    sleep(time_to_download)\n",
    "    print('%s下载完成! 耗费了%d秒' % (filename, time_to_download))\n",
    "\n",
    "\n",
    "def main():\n",
    "    start = time()\n",
    "    download_task('Python从入门到住院.pdf')\n",
    "    download_task('Peking Hot.avi')\n",
    "    end = time()\n",
    "    print('总共耗费了%.2f秒.' % (end - start))\n",
    "\n",
    "\n",
    "if __name__ == '__main__':\n",
    "    main()"
   ]
  },
  {
   "cell_type": "markdown",
   "metadata": {
    "colab_type": "text",
    "id": "OCiejyL-R45q"
   },
   "source": [
    "### 1.2 Multiple Process"
   ]
  },
  {
   "cell_type": "code",
   "execution_count": 2,
   "metadata": {
    "colab": {
     "base_uri": "https://localhost:8080/",
     "height": 136
    },
    "colab_type": "code",
    "id": "BQaIY489R45r",
    "outputId": "9ae55e22-bc37-4f1e-92de-3bb39bacc5fd"
   },
   "outputs": [
    {
     "name": "stdout",
     "output_type": "stream",
     "text": [
      "启动下载进程，进程号[168].\n",
      "开始下载Python从入门到住院.pdf...\n",
      "启动下载进程，进程号[171].\n",
      "开始下载Peking Hot.avi...\n",
      "Python从入门到住院.pdf下载完成! 耗费了5秒\n",
      "Peking Hot.avi下载完成! 耗费了10秒\n",
      "总共耗费了10.06秒.\n"
     ]
    }
   ],
   "source": [
    "from multiprocessing import Process\n",
    "from os import getpid\n",
    "from random import randint\n",
    "from time import time, sleep\n",
    "\n",
    "\n",
    "def download_task(filename):\n",
    "    print('启动下载进程，进程号[%d].' % getpid())\n",
    "    print('开始下载%s...' % filename)\n",
    "    time_to_download = randint(5, 10)\n",
    "    sleep(time_to_download)\n",
    "    print('%s下载完成! 耗费了%d秒' % (filename, time_to_download))\n",
    "\n",
    "\n",
    "def main():\n",
    "    start = time()\n",
    "    p1 = Process(target=download_task, args=('Python从入门到住院.pdf', ))\n",
    "    p1.start()\n",
    "    p2 = Process(target=download_task, args=('Peking Hot.avi', ))\n",
    "    p2.start()\n",
    "    p1.join()\n",
    "    p2.join()\n",
    "    end = time()\n",
    "    print('总共耗费了%.2f秒.' % (end - start))\n",
    "\n",
    "\n",
    "if __name__ == '__main__':\n",
    "    main()"
   ]
  },
  {
   "cell_type": "code",
   "execution_count": 3,
   "metadata": {
    "colab": {
     "base_uri": "https://localhost:8080/",
     "height": 34
    },
    "colab_type": "code",
    "id": "LQqNuPZWR45u",
    "outputId": "7811189b-8192-4854-9b65-e831a2aa4aa5"
   },
   "outputs": [
    {
     "name": "stdout",
     "output_type": "stream",
     "text": [
      "PingPingPongPingPongPingPongPingPongPingPongPingPongPingPong"
     ]
    }
   ],
   "source": [
    "from multiprocessing import Process\n",
    "from time import sleep\n",
    "\n",
    "counter = 0\n",
    "\n",
    "\n",
    "def sub_task(string):\n",
    "    global counter\n",
    "    while counter < 10:\n",
    "        print(string, end='', flush=True)\n",
    "        counter += 1\n",
    "        sleep(0.01)\n",
    "\n",
    "        \n",
    "def main():\n",
    "    Process(target=sub_task, args=('Ping', )).start()\n",
    "    Process(target=sub_task, args=('Pong', )).start()\n",
    "\n",
    "\n",
    "if __name__ == '__main__':\n",
    "    main()"
   ]
  },
  {
   "cell_type": "markdown",
   "metadata": {
    "colab_type": "text",
    "id": "h1SQpxNyR45w"
   },
   "source": [
    "### 2. Muptiple thread"
   ]
  },
  {
   "cell_type": "code",
   "execution_count": 4,
   "metadata": {
    "colab": {
     "base_uri": "https://localhost:8080/",
     "height": 102
    },
    "colab_type": "code",
    "id": "MfXd-e1vR45w",
    "outputId": "05d02986-faf8-4b39-86d3-754aa2cf1892"
   },
   "outputs": [
    {
     "name": "stdout",
     "output_type": "stream",
     "text": [
      "开始下载Python从入门到住院.pdf...\n",
      "开始下载Peking Hot.avi...\n",
      "Python从入门到住院.pdf下载完成! 耗费了5秒\n",
      "Peking Hot.avi下载完成! 耗费了7秒\n",
      "总共耗费了7.020秒\n"
     ]
    }
   ],
   "source": [
    "from random import randint\n",
    "from threading import Thread\n",
    "from time import time, sleep\n",
    "\n",
    "\n",
    "def download(filename):\n",
    "    print('开始下载%s...' % filename)\n",
    "    time_to_download = randint(5, 10)\n",
    "    sleep(time_to_download)\n",
    "    print('%s下载完成! 耗费了%d秒' % (filename, time_to_download))\n",
    "\n",
    "\n",
    "def main():\n",
    "    start = time()\n",
    "    t1 = Thread(target=download, args=('Python从入门到住院.pdf',))\n",
    "    t1.start()\n",
    "    t2 = Thread(target=download, args=('Peking Hot.avi',))\n",
    "    t2.start()\n",
    "    t1.join()\n",
    "    t2.join()\n",
    "    end = time()\n",
    "    print('总共耗费了%.3f秒' % (end - start))\n",
    "\n",
    "\n",
    "if __name__ == '__main__':\n",
    "    main()"
   ]
  },
  {
   "cell_type": "code",
   "execution_count": 5,
   "metadata": {
    "colab": {
     "base_uri": "https://localhost:8080/",
     "height": 102
    },
    "colab_type": "code",
    "id": "w0zVzfByR45y",
    "outputId": "5c07d5b1-1476-44d3-efbe-3e6b6b010a78"
   },
   "outputs": [
    {
     "name": "stdout",
     "output_type": "stream",
     "text": [
      "开始下载Python从入门到住院.pdf...\n",
      "开始下载Peking Hot.avi...\n",
      "Python从入门到住院.pdf下载完成! 耗费了9秒\n",
      "Peking Hot.avi下载完成! 耗费了9秒总共耗费了9.02秒.\n",
      "\n"
     ]
    }
   ],
   "source": [
    "from random import randint\n",
    "from threading import Thread\n",
    "from time import time, sleep\n",
    "\n",
    "\n",
    "class DownloadTask(Thread):\n",
    "\n",
    "    def __init__(self, filename):\n",
    "        super().__init__()\n",
    "        self._filename = filename\n",
    "\n",
    "    def run(self):\n",
    "        print('开始下载%s...' % self._filename)\n",
    "        time_to_download = randint(5, 10)\n",
    "        sleep(time_to_download)\n",
    "        print('%s下载完成! 耗费了%d秒' % (self._filename, time_to_download))\n",
    "\n",
    "\n",
    "def main():\n",
    "    start = time()\n",
    "    t1 = DownloadTask('Python从入门到住院.pdf')\n",
    "    t1.start()\n",
    "    t2 = DownloadTask('Peking Hot.avi')\n",
    "    t2.start()\n",
    "    t1.join()\n",
    "    t2.join()\n",
    "    end = time()\n",
    "    print('总共耗费了%.2f秒.' % (end - start))\n",
    "\n",
    "\n",
    "if __name__ == '__main__':\n",
    "    main()"
   ]
  },
  {
   "cell_type": "code",
   "execution_count": 6,
   "metadata": {
    "colab": {
     "base_uri": "https://localhost:8080/",
     "height": 34
    },
    "colab_type": "code",
    "id": "D77wv3GPR450",
    "outputId": "47308e99-fb8b-4dfc-d58b-966930e572df"
   },
   "outputs": [
    {
     "name": "stdout",
     "output_type": "stream",
     "text": [
      "账户余额为: ￥3元\n"
     ]
    }
   ],
   "source": [
    "from time import sleep\n",
    "from threading import Thread\n",
    "\n",
    "\n",
    "class Account(object):\n",
    "\n",
    "    def __init__(self):\n",
    "        self._balance = 0\n",
    "\n",
    "    def deposit(self, money):\n",
    "        # 计算存款后的余额\n",
    "        new_balance = self._balance + money\n",
    "        # 模拟受理存款业务需要0.01秒的时间\n",
    "        sleep(0.01)\n",
    "        # 修改账户余额\n",
    "        self._balance = new_balance\n",
    "\n",
    "    @property\n",
    "    def balance(self):\n",
    "        return self._balance\n",
    "\n",
    "\n",
    "class AddMoneyThread(Thread):\n",
    "\n",
    "    def __init__(self, account, money):\n",
    "        super().__init__()\n",
    "        self._account = account\n",
    "        self._money = money\n",
    "\n",
    "    def run(self):\n",
    "        self._account.deposit(self._money)\n",
    "\n",
    "\n",
    "def main():\n",
    "    account = Account()\n",
    "    threads = []\n",
    "    # 创建100个存款的线程向同一个账户中存钱\n",
    "    for _ in range(100):\n",
    "        t = AddMoneyThread(account, 1)\n",
    "        threads.append(t)\n",
    "        t.start()\n",
    "    # 等所有存款的线程都执行完毕\n",
    "    for t in threads:\n",
    "        t.join()\n",
    "    print('账户余额为: ￥%d元' % account.balance)\n",
    "\n",
    "\n",
    "if __name__ == '__main__':\n",
    "    main()"
   ]
  },
  {
   "cell_type": "code",
   "execution_count": 7,
   "metadata": {
    "colab": {
     "base_uri": "https://localhost:8080/",
     "height": 34
    },
    "colab_type": "code",
    "id": "iryIvUitR452",
    "outputId": "3ed94289-4df3-415b-b4ec-bb24e3b37751"
   },
   "outputs": [
    {
     "name": "stdout",
     "output_type": "stream",
     "text": [
      "账户余额为: ￥100元\n"
     ]
    }
   ],
   "source": [
    "from time import sleep\n",
    "from threading import Thread, Lock\n",
    "\n",
    "\n",
    "class Account(object):\n",
    "\n",
    "    def __init__(self):\n",
    "        self._balance = 0\n",
    "        self._lock = Lock()\n",
    "\n",
    "    def deposit(self, money):\n",
    "        # 先获取锁才能执行后续的代码\n",
    "        self._lock.acquire()\n",
    "        try:\n",
    "            new_balance = self._balance + money\n",
    "            sleep(0.01)\n",
    "            self._balance = new_balance\n",
    "        finally:\n",
    "            # 在finally中执行释放锁的操作保证正常异常锁都能释放\n",
    "            self._lock.release()\n",
    "\n",
    "    @property\n",
    "    def balance(self):\n",
    "        return self._balance\n",
    "\n",
    "\n",
    "class AddMoneyThread(Thread):\n",
    "\n",
    "    def __init__(self, account, money):\n",
    "        super().__init__()\n",
    "        self._account = account\n",
    "        self._money = money\n",
    "\n",
    "    def run(self):\n",
    "        self._account.deposit(self._money)\n",
    "\n",
    "\n",
    "def main():\n",
    "    account = Account()\n",
    "    threads = []\n",
    "    for _ in range(100):\n",
    "        t = AddMoneyThread(account, 1)\n",
    "        threads.append(t)\n",
    "        t.start()\n",
    "    for t in threads:\n",
    "        t.join()\n",
    "    print('账户余额为: ￥%d元' % account.balance)\n",
    "\n",
    "\n",
    "if __name__ == '__main__':\n",
    "    main()"
   ]
  },
  {
   "cell_type": "markdown",
   "metadata": {
    "colab_type": "text",
    "id": "vx6zpKfMR456"
   },
   "source": [
    "## Practice Example"
   ]
  },
  {
   "cell_type": "markdown",
   "metadata": {
    "colab_type": "text",
    "id": "nSK6oCI7R457"
   },
   "source": [
    "### 1. Put TIme Expensive Task in Thread"
   ]
  },
  {
   "cell_type": "code",
   "execution_count": 3,
   "metadata": {
    "colab": {
     "base_uri": "https://localhost:8080/",
     "height": 342
    },
    "colab_type": "code",
    "id": "rZEHX_yYR457",
    "outputId": "72965e92-0461-4186-e546-921c0a2dc726"
   },
   "outputs": [],
   "source": [
    "import time\n",
    "import tkinter\n",
    "import tkinter.messagebox\n",
    "\n",
    "\n",
    "def download():\n",
    "    # 模拟下载任务需要花费10秒钟时间\n",
    "    time.sleep(10)\n",
    "    tkinter.messagebox.showinfo('提示', '下载完成!')\n",
    "\n",
    "\n",
    "def show_about():\n",
    "    tkinter.messagebox.showinfo('关于', '作者: Jax(v1.0)')\n",
    "\n",
    "\n",
    "def main():\n",
    "    top = tkinter.Tk()\n",
    "    top.title('单线程')\n",
    "    top.geometry('200x150')\n",
    "    top.wm_attributes('-topmost', True)\n",
    "\n",
    "    panel = tkinter.Frame(top)\n",
    "    button1 = tkinter.Button(panel, text='下载', command=download)\n",
    "    button1.pack(side='left')\n",
    "    button2 = tkinter.Button(panel, text='关于', command=show_about)\n",
    "    button2.pack(side='right')\n",
    "    panel.pack(side='bottom')\n",
    "\n",
    "    tkinter.mainloop()\n",
    "\n",
    "\n",
    "if __name__ == '__main__':\n",
    "    main()"
   ]
  },
  {
   "cell_type": "code",
   "execution_count": 4,
   "metadata": {
    "colab": {
     "base_uri": "https://localhost:8080/",
     "height": 342
    },
    "colab_type": "code",
    "id": "1F1tsa2QR459",
    "outputId": "95b43cea-75ec-43ac-9ec9-a6c8cd24a72a"
   },
   "outputs": [],
   "source": [
    "import time\n",
    "import tkinter\n",
    "import tkinter.messagebox\n",
    "from threading import Thread\n",
    "\n",
    "\n",
    "def main():\n",
    "\n",
    "    class DownloadTaskHandler(Thread):\n",
    "\n",
    "        def run(self):\n",
    "            time.sleep(10)\n",
    "            tkinter.messagebox.showinfo('提示', '下载完成!')\n",
    "            # 启用下载按钮\n",
    "            button1.config(state=tkinter.NORMAL)\n",
    "\n",
    "    def download():\n",
    "        # 禁用下载按钮\n",
    "        button1.config(state=tkinter.DISABLED)\n",
    "        # 通过daemon参数将线程设置为守护线程(主程序退出就不再保留执行)\n",
    "        # 在线程中处理耗时间的下载任务\n",
    "        DownloadTaskHandler(daemon=True).start()\n",
    "\n",
    "    def show_about():\n",
    "        tkinter.messagebox.showinfo('关于', '作者: 骆昊(v1.0)')\n",
    "\n",
    "    top = tkinter.Tk()\n",
    "    top.title('单线程')\n",
    "    top.geometry('200x150')\n",
    "    top.wm_attributes('-topmost', 1)\n",
    "\n",
    "    panel = tkinter.Frame(top)\n",
    "    button1 = tkinter.Button(panel, text='下载', command=download)\n",
    "    button1.pack(side='left')\n",
    "    button2 = tkinter.Button(panel, text='关于', command=show_about)\n",
    "    button2.pack(side='right')\n",
    "    panel.pack(side='bottom')\n",
    "\n",
    "    tkinter.mainloop()\n",
    "\n",
    "\n",
    "if __name__ == '__main__':\n",
    "    main()"
   ]
  },
  {
   "cell_type": "markdown",
   "metadata": {
    "colab_type": "text",
    "id": "RYDSayA7R45_"
   },
   "source": [
    "### 2. Using Multiple Process to split complex tasks."
   ]
  },
  {
   "cell_type": "code",
   "execution_count": 10,
   "metadata": {
    "colab": {
     "base_uri": "https://localhost:8080/",
     "height": 51
    },
    "colab_type": "code",
    "id": "17HFw_kQR46A",
    "outputId": "42185454-810b-4985-ca86-c343db8ae866"
   },
   "outputs": [
    {
     "name": "stdout",
     "output_type": "stream",
     "text": [
      "5000000050000000\n",
      "Execution time: 8.543s\n"
     ]
    }
   ],
   "source": [
    "from time import time\n",
    "\n",
    "\n",
    "def main():\n",
    "    total = 0\n",
    "    number_list = [x for x in range(1, 100000001)]\n",
    "    start = time()\n",
    "    for number in number_list:\n",
    "        total += number\n",
    "    print(total)\n",
    "    end = time()\n",
    "    print('Execution time: %.3fs' % (end - start))\n",
    "\n",
    "\n",
    "if __name__ == '__main__':\n",
    "    main()"
   ]
  },
  {
   "cell_type": "code",
   "execution_count": 11,
   "metadata": {
    "colab": {
     "base_uri": "https://localhost:8080/",
     "height": 51
    },
    "colab_type": "code",
    "id": "frKEuNN2R46C",
    "outputId": "18f3cbd8-c148-4037-fb7a-2ccbeb2e81ec"
   },
   "outputs": [
    {
     "name": "stdout",
     "output_type": "stream",
     "text": [
      "5000000050000000\n",
      "Execution time: 0.8001067638397217s\n"
     ]
    }
   ],
   "source": [
    "from multiprocessing import Process, Queue\n",
    "from random import randint\n",
    "from time import time\n",
    "\n",
    "\n",
    "def task_handler(curr_list, result_queue):\n",
    "    total = 0\n",
    "    for number in curr_list:\n",
    "        total += number\n",
    "    result_queue.put(total)\n",
    "\n",
    "\n",
    "def main():\n",
    "    processes = []\n",
    "    number_list = [x for x in range(1, 100000001)]\n",
    "    result_queue = Queue()\n",
    "    index = 0\n",
    "    # 启动8个进程将数据切片后进行运算\n",
    "    for _ in range(8):\n",
    "        p = Process(target=task_handler,\n",
    "                    args=(number_list[index:index + 12500000], result_queue))\n",
    "        index += 12500000\n",
    "        processes.append(p)\n",
    "        p.start()\n",
    "    # 开始记录所有进程执行完成花费的时间\n",
    "    start = time()\n",
    "    for p in processes:\n",
    "        p.join()\n",
    "    # 合并执行结果\n",
    "    total = 0\n",
    "    while not result_queue.empty():\n",
    "        total += result_queue.get()\n",
    "    print(total)\n",
    "    end = time()\n",
    "    print('Execution time: ', (end - start), 's', sep='')\n",
    "\n",
    "\n",
    "if __name__ == '__main__':\n",
    "    main()"
   ]
  }
 ],
 "metadata": {
  "colab": {
   "name": "Python100_Day013.ipynb",
   "provenance": [],
   "version": "0.3.2"
  },
  "kernelspec": {
   "display_name": "Python 3",
   "language": "python",
   "name": "python3"
  },
  "language_info": {
   "codemirror_mode": {
    "name": "ipython",
    "version": 3
   },
   "file_extension": ".py",
   "mimetype": "text/x-python",
   "name": "python",
   "nbconvert_exporter": "python",
   "pygments_lexer": "ipython3",
   "version": "3.7.3"
  }
 },
 "nbformat": 4,
 "nbformat_minor": 1
}
