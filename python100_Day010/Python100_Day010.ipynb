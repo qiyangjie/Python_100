{
 "cells": [
  {
   "cell_type": "markdown",
   "metadata": {},
   "source": [
    "# GUI and Game\n",
    "## 1. GUI based on tkinter"
   ]
  },
  {
   "cell_type": "code",
   "execution_count": 1,
   "metadata": {},
   "outputs": [],
   "source": [
    "import tkinter\n",
    "import tkinter.messagebox\n",
    "\n",
    "\n",
    "def main():\n",
    "    flag = True\n",
    "\n",
    "    # 修改标签上的文字\n",
    "    def change_label_text():\n",
    "        nonlocal flag\n",
    "        flag = not flag\n",
    "        color, msg = ('red', 'Hello, world!')\\\n",
    "            if flag else ('blue', 'Goodbye, world!')\n",
    "        label.config(text=msg, fg=color)\n",
    "\n",
    "    # 确认退出\n",
    "    def confirm_to_quit():\n",
    "        if tkinter.messagebox.askokcancel('温馨提示', '确定要退出吗?'):\n",
    "            top.quit()\n",
    "\n",
    "    # 创建顶层窗口\n",
    "    top = tkinter.Tk()\n",
    "    # 设置窗口大小\n",
    "    top.geometry('240x160')\n",
    "    # 设置窗口标题\n",
    "    top.title('小游戏')\n",
    "    # 创建标签对象并添加到顶层窗口\n",
    "    label = tkinter.Label(top, text='Hello, world!', font='Arial -32', fg='red')\n",
    "    label.pack(expand=1)\n",
    "    # 创建一个装按钮的容器\n",
    "    panel = tkinter.Frame(top)\n",
    "    # 创建按钮对象 指定添加到哪个容器中 通过command参数绑定事件回调函数\n",
    "    button1 = tkinter.Button(panel, text='修改', command=change_label_text)\n",
    "    button1.pack(side='left')\n",
    "    button2 = tkinter.Button(panel, text='退出', command=confirm_to_quit)\n",
    "    button2.pack(side='right')\n",
    "    panel.pack(side='bottom')\n",
    "    # 开启主事件循环\n",
    "    tkinter.mainloop()\n",
    "\n",
    "\n",
    "if __name__ == '__main__':\n",
    "    main()"
   ]
  },
  {
   "cell_type": "markdown",
   "metadata": {},
   "source": [
    "# 2. Pygame\n",
    "## 2.1 Create game window"
   ]
  },
  {
   "cell_type": "code",
   "execution_count": 1,
   "metadata": {},
   "outputs": [
    {
     "ename": "ModuleNotFoundError",
     "evalue": "No module named 'pygame'",
     "output_type": "error",
     "traceback": [
      "\u001b[1;31m---------------------------------------------------------------------------\u001b[0m",
      "\u001b[1;31mModuleNotFoundError\u001b[0m                       Traceback (most recent call last)",
      "\u001b[1;32m<ipython-input-1-4511f4789148>\u001b[0m in \u001b[0;36m<module>\u001b[1;34m\u001b[0m\n\u001b[1;32m----> 1\u001b[1;33m \u001b[1;32mimport\u001b[0m \u001b[0mpygame\u001b[0m\u001b[1;33m\u001b[0m\u001b[1;33m\u001b[0m\u001b[0m\n\u001b[0m\u001b[0;32m      2\u001b[0m \u001b[1;33m\u001b[0m\u001b[0m\n\u001b[0;32m      3\u001b[0m \u001b[1;33m\u001b[0m\u001b[0m\n\u001b[0;32m      4\u001b[0m \u001b[1;32mdef\u001b[0m \u001b[0mmain\u001b[0m\u001b[1;33m(\u001b[0m\u001b[1;33m)\u001b[0m\u001b[1;33m:\u001b[0m\u001b[1;33m\u001b[0m\u001b[1;33m\u001b[0m\u001b[0m\n\u001b[0;32m      5\u001b[0m     \u001b[1;31m# 初始化导入的pygame中的模块\u001b[0m\u001b[1;33m\u001b[0m\u001b[1;33m\u001b[0m\u001b[1;33m\u001b[0m\u001b[0m\n",
      "\u001b[1;31mModuleNotFoundError\u001b[0m: No module named 'pygame'"
     ]
    }
   ],
   "source": [
    "import pygame\n",
    "\n",
    "\n",
    "def main():\n",
    "    # 初始化导入的pygame中的模块\n",
    "    pygame.init()\n",
    "    # 初始化用于显示的窗口并设置窗口尺寸\n",
    "    screen = pygame.display.set_mode((800, 600))\n",
    "    # 设置当前窗口的标题\n",
    "    pygame.display.set_caption('大球吃小球')\n",
    "    running = True\n",
    "    # 开启一个事件循环处理发生的事件\n",
    "    while running:\n",
    "        # 从消息队列中获取事件并对事件进行处理\n",
    "        for event in pygame.event.get():\n",
    "            if event.type == pygame.QUIT:\n",
    "                running = False\n",
    "\n",
    "\n",
    "if __name__ == '__main__':\n",
    "    main()"
   ]
  },
  {
   "cell_type": "code",
   "execution_count": null,
   "metadata": {},
   "outputs": [],
   "source": []
  }
 ],
 "metadata": {
  "kernelspec": {
   "display_name": "Python 3",
   "language": "python",
   "name": "python3"
  },
  "language_info": {
   "codemirror_mode": {
    "name": "ipython",
    "version": 3
   },
   "file_extension": ".py",
   "mimetype": "text/x-python",
   "name": "python",
   "nbconvert_exporter": "python",
   "pygments_lexer": "ipython3",
   "version": "3.7.3"
  }
 },
 "nbformat": 4,
 "nbformat_minor": 2
}
